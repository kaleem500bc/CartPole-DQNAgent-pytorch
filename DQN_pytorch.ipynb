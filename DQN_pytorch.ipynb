{
  "nbformat": 4,
  "nbformat_minor": 0,
  "metadata": {
    "colab": {
      "name": "DQN pytorch",
      "provenance": [],
      "collapsed_sections": [],
      "include_colab_link": true
    },
    "kernelspec": {
      "display_name": "Python 3",
      "name": "python3"
    },
    "accelerator": "GPU"
  },
  "cells": [
    {
      "cell_type": "markdown",
      "metadata": {
        "id": "view-in-github",
        "colab_type": "text"
      },
      "source": [
        "<a href=\"https://colab.research.google.com/github/kaleem500bc/CartPole-DQNAgent-pytorch/blob/main/DQN_pytorch.ipynb\" target=\"_parent\"><img src=\"https://colab.research.google.com/assets/colab-badge.svg\" alt=\"Open In Colab\"/></a>"
      ]
    },
    {
      "cell_type": "code",
      "metadata": {
        "id": "iLAiMoMUyiki"
      },
      "source": [
        "import torch\n",
        "from torch import nn\n",
        "import gym\n",
        "import os\n",
        "from matplotlib import pyplot as plt\n",
        "import numpy as np\n",
        "from collections import deque\n",
        "import random\n"
      ],
      "execution_count": 6,
      "outputs": []
    },
    {
      "cell_type": "code",
      "metadata": {
        "id": "1-3wQ9-SfJS3",
        "outputId": "2c341ef4-8174-4784-eae7-6f04aa8099f0",
        "colab": {
          "base_uri": "https://localhost:8080/"
        }
      },
      "source": [
        "# make virtual screen and redirect render to this screen\n",
        "# From https://raw.githubusercontent.com/yandexdataschool/Practical_RL/master/setup_colab.sh\n",
        "!wget -q https://raw.githubusercontent.com/yandexdataschool/Practical_RL/master/setup_colab.sh -O- | bash\n",
        "!bash ../xvfb start\n",
        "os.environ['DISPLAY'] = ':1'"
      ],
      "execution_count": 7,
      "outputs": [
        {
          "output_type": "stream",
          "text": [
            "Starting virtual X frame buffer: Xvfb.\n"
          ],
          "name": "stdout"
        }
      ]
    },
    {
      "cell_type": "code",
      "metadata": {
        "id": "7iLj1NL7n64P"
      },
      "source": [
        "class Agent:\n",
        "  def __init__(self,state_size, action_size):\n",
        "    self.state_size = state_size\n",
        "    self.action_size = action_size\n",
        "    self.memory = deque(maxlen=2000)\n",
        "    self.gamma = 0.95\n",
        "    self.epsilon = 1.0\n",
        "    self.epsilon_decay = 0.995\n",
        "    self.epsilon_min = 0.01\n",
        "    self.learning_rate = 0.001\n",
        "    self.model = self.create_model()\n",
        "    self.optimizer = torch.optim.Adam(self.model.parameters())\n",
        "    self.criterion = nn.MSELoss()\n",
        "\n",
        "  # Model that will learn the Q-function/ Agent that will play the game\n",
        "  def create_model(self):\n",
        "    model = nn.Sequential(\n",
        "        nn.Linear(self.state_size,256),\n",
        "        nn.ReLU(),\n",
        "        nn.Linear(256, 128),\n",
        "        nn.ReLU(),\n",
        "        nn.Linear(128,64),\n",
        "        nn.ReLU(),\n",
        "        nn.Linear(64,self.action_size)\n",
        "    )\n",
        "    model.to(\"cuda\")\n",
        "    return model\n",
        "    \n",
        "  # Replay memory where different episode will be store\n",
        "  def replay_buffer(self, state,action, reward, next_state, done):\n",
        "    state = torch.tensor(state,dtype=torch.float).to(\"cuda\")\n",
        "    action = torch.tensor(action,dtype=torch.float).to(\"cuda\")\n",
        "    reward = torch.tensor(reward,dtype=torch.float).to(\"cuda\")\n",
        "    next_state = torch.tensor(next_state,dtype=torch.float).to(\"cuda\")\n",
        "    \n",
        "    self.memory.append((state,action, reward, next_state,done))\n",
        "  \n",
        "  # Get action that the agent should take\n",
        "  def action(self, state):\n",
        "\n",
        "    if np.random.rand() <= self.epsilon:\n",
        "      # Random exploration\n",
        "      return random.randrange(self.action_size)\n",
        "\n",
        "    # Get action from the agent/ exploitation\n",
        "    state = state.to(\"cuda\")\n",
        "    act_values = self.model(state)\n",
        "    return int(torch.argmax(act_values).item())\n",
        "\n",
        "\n",
        "  # Train the model according to q-learning\n",
        "  def training(self,batch_size, training_iter):\n",
        "    print(\"Training Iteration: \", training_iter)\n",
        "    minibatch = random.sample(self.memory, batch_size)\n",
        "    for state,action, reward, next_state,done in minibatch:\n",
        "      actual_reward = reward\n",
        "      state = state.to(\"cuda\")\n",
        "      next_state = next_state.to(\"cuda\")\n",
        "\n",
        "      predicted_reward = self.model(state)\n",
        "      predicted_reward = predicted_reward[int(action.item())] \n",
        "      if not done:\n",
        "        actual_reward = reward + self.gamma * torch.amax(\n",
        "            self.model(next_state)\n",
        "            )\n",
        "        \n",
        "        self.optimizer.zero_grad()\n",
        "    \n",
        "        loss = self.criterion(predicted_reward,actual_reward)\n",
        "        loss.backward()\n",
        "        self.optimizer.step()\n",
        "      else:\n",
        "        self.optimizer.zero_grad()\n",
        "        loss = self.criterion(predicted_reward, actual_reward)\n",
        "        loss.backward()\n",
        "        self.optimizer.step()\n",
        "    if self.epsilon > self.epsilon_min:\n",
        "      self.epsilon *= self.epsilon_decay\n",
        "\n",
        "  \n",
        "\n",
        "\n",
        "\n"
      ],
      "execution_count": 14,
      "outputs": []
    },
    {
      "cell_type": "code",
      "metadata": {
        "id": "0HM99c53wrs2",
        "outputId": "f491bf03-f0ee-47b4-ae5e-13e32d47ad3e",
        "colab": {
          "base_uri": "https://localhost:8080/",
          "height": 286
        }
      },
      "source": [
        "env = gym.make(\"CartPole-v0\").env\n",
        "obs = env.reset()\n",
        "plt.imshow(env.render(\"rgb_array\"))"
      ],
      "execution_count": 15,
      "outputs": [
        {
          "output_type": "execute_result",
          "data": {
            "text/plain": [
              "<matplotlib.image.AxesImage at 0x7fcbc0037a58>"
            ]
          },
          "metadata": {
            "tags": []
          },
          "execution_count": 15
        },
        {
          "output_type": "display_data",
          "data": {
            "image/png": "[encoded data removed]",
            "text/plain": [
              "<Figure size 432x288 with 1 Axes>"
            ]
          },
          "metadata": {
            "tags": [],
            "needs_background": "light"
          }
        }
      ]
    },
    {
      "cell_type": "code",
      "metadata": {
        "id": "B1NTH6CcvzJR",
        "outputId": "261d8aaf-90c5-4169-b2f2-4aed7f248c0a",
        "colab": {
          "base_uri": "https://localhost:8080/"
        }
      },
      "source": [
        "state_size = env.observation_space.shape[0]\n",
        "action_size = env.action_space.n\n",
        "agent = Agent(state_size, action_size)\n",
        "agent"
      ],
      "execution_count": 16,
      "outputs": [
        {
          "output_type": "execute_result",
          "data": {
            "text/plain": [
              "<__main__.Agent at 0x7fcbc01a6c50>"
            ]
          },
          "metadata": {
            "tags": []
          },
          "execution_count": 16
        }
      ]
    },
    {
      "cell_type": "code",
      "metadata": {
        "id": "AuBXbUI41kiY"
      },
      "source": [
        "def populate_replayBuffer(agent,env, n_episode):\n",
        "  done = False\n",
        "  batch_size = 2000\n",
        "  training_iter = 1\n",
        "  for e in range(n_episode):\n",
        "    state = env.reset()\n",
        "    state = torch.tensor(state,dtype=torch.float)\n",
        "    buffer_size = 5000\n",
        "    for i in range(buffer_size):\n",
        "      action = agent.action(state)\n",
        "      next_state, reward, done, _ = env.step(action)\n",
        "      reward = reward if not done else -10\n",
        "      agent.replay_buffer(state,action,reward,next_state,done)\n",
        "      state = torch.tensor(next_state,dtype=torch.float)\n",
        "\n",
        "      if done:\n",
        "        print(\"episods: {}, score: {}\".format(e,i))\n",
        "        break\n",
        "\n",
        "    if len(agent.memory) >= batch_size:\n",
        "      training_iter += 1\n",
        "      agent.training(batch_size, training_iter)"
      ],
      "execution_count": 17,
      "outputs": []
    },
    {
      "cell_type": "code",
      "metadata": {
        "id": "86xjPeYs9W4b",
        "outputId": "fd03af63-af9a-419f-b6b8-4703612e6355",
        "colab": {
          "base_uri": "https://localhost:8080/"
        }
      },
      "source": [
        "populate_replayBuffer(agent,env,5000)"
      ],
      "execution_count": null,
      "outputs": [
        {
          "output_type": "stream",
          "text": [
            "/usr/local/lib/python3.6/dist-packages/ipykernel_launcher.py:31: UserWarning: To copy construct from a tensor, it is recommended to use sourceTensor.clone().detach() or sourceTensor.clone().detach().requires_grad_(True), rather than torch.tensor(sourceTensor).\n"
          ],
          "name": "stderr"
        },
        {
          "output_type": "stream",
          "text": [
            "episods: 0, score: 23\n",
            "episods: 1, score: 17\n",
            "episods: 2, score: 13\n",
            "episods: 3, score: 12\n",
            "episods: 4, score: 17\n",
            "episods: 5, score: 18\n",
            "episods: 6, score: 9\n",
            "episods: 7, score: 15\n",
            "episods: 8, score: 22\n",
            "episods: 9, score: 23\n",
            "episods: 10, score: 17\n",
            "episods: 11, score: 64\n",
            "episods: 12, score: 17\n",
            "episods: 13, score: 12\n",
            "episods: 14, score: 21\n",
            "episods: 15, score: 9\n",
            "episods: 16, score: 14\n",
            "episods: 17, score: 21\n",
            "episods: 18, score: 8\n",
            "episods: 19, score: 18\n",
            "episods: 20, score: 23\n",
            "episods: 21, score: 23\n",
            "episods: 22, score: 10\n",
            "episods: 23, score: 22\n",
            "episods: 24, score: 38\n",
            "episods: 25, score: 39\n",
            "episods: 26, score: 12\n",
            "episods: 27, score: 31\n",
            "episods: 28, score: 14\n",
            "episods: 29, score: 46\n",
            "episods: 30, score: 16\n",
            "episods: 31, score: 25\n",
            "episods: 32, score: 13\n",
            "episods: 33, score: 26\n",
            "episods: 34, score: 17\n",
            "episods: 35, score: 11\n",
            "episods: 36, score: 24\n",
            "episods: 37, score: 17\n",
            "episods: 38, score: 35\n",
            "episods: 39, score: 15\n",
            "episods: 40, score: 17\n",
            "episods: 41, score: 12\n",
            "episods: 42, score: 10\n",
            "episods: 43, score: 40\n",
            "episods: 44, score: 20\n",
            "episods: 45, score: 20\n",
            "episods: 46, score: 17\n",
            "episods: 47, score: 12\n",
            "episods: 48, score: 22\n",
            "episods: 49, score: 17\n",
            "episods: 50, score: 14\n",
            "episods: 51, score: 18\n",
            "episods: 52, score: 32\n",
            "episods: 53, score: 31\n",
            "episods: 54, score: 23\n",
            "episods: 55, score: 16\n",
            "episods: 56, score: 16\n",
            "episods: 57, score: 18\n",
            "episods: 58, score: 36\n",
            "episods: 59, score: 15\n",
            "episods: 60, score: 21\n",
            "episods: 61, score: 11\n",
            "episods: 62, score: 37\n",
            "episods: 63, score: 15\n",
            "episods: 64, score: 15\n",
            "episods: 65, score: 36\n",
            "episods: 66, score: 20\n",
            "episods: 67, score: 18\n",
            "episods: 68, score: 12\n",
            "episods: 69, score: 18\n",
            "episods: 70, score: 16\n",
            "episods: 71, score: 10\n",
            "episods: 72, score: 39\n",
            "episods: 73, score: 10\n",
            "episods: 74, score: 16\n",
            "episods: 75, score: 16\n",
            "episods: 76, score: 51\n",
            "episods: 77, score: 26\n",
            "episods: 78, score: 22\n",
            "episods: 79, score: 20\n",
            "episods: 80, score: 32\n",
            "episods: 81, score: 17\n",
            "episods: 82, score: 26\n",
            "episods: 83, score: 30\n",
            "episods: 84, score: 15\n",
            "episods: 85, score: 11\n",
            "episods: 86, score: 27\n",
            "episods: 87, score: 24\n",
            "episods: 88, score: 26\n",
            "episods: 89, score: 26\n",
            "episods: 90, score: 7\n",
            "episods: 91, score: 21\n",
            "Training Iteration:  2\n",
            "episods: 92, score: 16\n",
            "Training Iteration:  3\n",
            "episods: 93, score: 30\n",
            "Training Iteration:  4\n",
            "episods: 94, score: 17\n",
            "Training Iteration:  5\n",
            "episods: 95, score: 9\n",
            "Training Iteration:  6\n",
            "episods: 96, score: 20\n",
            "Training Iteration:  7\n",
            "episods: 97, score: 10\n",
            "Training Iteration:  8\n",
            "episods: 98, score: 32\n",
            "Training Iteration:  9\n"
          ],
          "name": "stdout"
        }
      ]
    },
    {
      "cell_type": "code",
      "metadata": {
        "id": "Co6B9Wf1AZpb"
      },
      "source": [
        ""
      ],
      "execution_count": null,
      "outputs": []
    }
  ]
}