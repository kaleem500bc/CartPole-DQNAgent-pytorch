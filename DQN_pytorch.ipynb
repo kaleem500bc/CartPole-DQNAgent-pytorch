{
  "nbformat": 4,
  "nbformat_minor": 0,
  "metadata": {
    "colab": {
      "name": "DQN pytorch",
      "provenance": [],
      "collapsed_sections": [],
      "include_colab_link": true
    },
    "kernelspec": {
      "display_name": "Python 3",
      "name": "python3"
    },
    "accelerator": "GPU"
  },
  "cells": [
    {
      "cell_type": "markdown",
      "metadata": {
        "id": "view-in-github",
        "colab_type": "text"
      },
      "source": [
        "<a href=\"https://colab.research.google.com/github/kaleem500bc/CartPole-DQNAgent-pytorch/blob/main/DQN_pytorch.ipynb\" target=\"_parent\"><img src=\"https://colab.research.google.com/assets/colab-badge.svg\" alt=\"Open In Colab\"/></a>"
      ]
    },
    {
      "cell_type": "code",
      "metadata": {
        "id": "zSneztlAugFJ",
        "outputId": "b842f29e-e13b-427d-92b9-90caf1a995ae",
        "colab": {
          "base_uri": "https://localhost:8080/"
        }
      },
      "source": [
        "!pip install PyVirtualDisplay"
      ],
      "execution_count": 1,
      "outputs": [
        {
          "output_type": "stream",
          "text": [
            "Requirement already satisfied: PyVirtualDisplay in /usr/local/lib/python3.6/dist-packages (1.3.2)\n",
            "Requirement already satisfied: EasyProcess in /usr/local/lib/python3.6/dist-packages (from PyVirtualDisplay) (0.3)\n"
          ],
          "name": "stdout"
        }
      ]
    },
    {
      "cell_type": "code",
      "metadata": {
        "id": "iLAiMoMUyiki"
      },
      "source": [
        "import torch\n",
        "from torch import nn\n",
        "import gym\n",
        "import os\n",
        "from matplotlib import pyplot as plt\n",
        "import numpy as np\n",
        "from collections import deque\n",
        "import random\n",
        "import time\n",
        "from IPython import display\n",
        "from pyvirtualdisplay import Display\n",
        "# from IPython import display\n",
        "from IPython.display import clear_output\n",
        "import copy\n",
        "plt.ion()"
      ],
      "execution_count": 2,
      "outputs": []
    },
    {
      "cell_type": "code",
      "metadata": {
        "id": "1-3wQ9-SfJS3",
        "outputId": "acc7ae0a-93bc-407a-a08c-0c52c2b8bb7a",
        "colab": {
          "base_uri": "https://localhost:8080/"
        }
      },
      "source": [
        "# make virtual screen and redirect render to this screen\n",
        "# From https://raw.githubusercontent.com/yandexdataschool/Practical_RL/master/setup_colab.sh\n",
        "!wget -q https://raw.githubusercontent.com/yandexdataschool/Practical_RL/master/setup_colab.sh -O- | bash\n",
        "!bash ../xvfb start\n",
        "os.environ['DISPLAY'] = ':1'"
      ],
      "execution_count": 3,
      "outputs": [
        {
          "output_type": "stream",
          "text": [
            "Starting virtual X frame buffer: Xvfb.\n"
          ],
          "name": "stdout"
        }
      ]
    },
    {
      "cell_type": "code",
      "metadata": {
        "id": "7iLj1NL7n64P"
      },
      "source": [
        "class Agent:\n",
        "  def __init__(self,state_size, action_size):\n",
        "    self.state_size = state_size\n",
        "    self.action_size = action_size\n",
        "    self.memory = deque(maxlen=2000)\n",
        "    self.gamma = 0.99\n",
        "    self.epsilon = 1.0\n",
        "    self.epsilon_decay = 0.995\n",
        "    self.epsilon_min = 0.01\n",
        "    self.learning_rate = 0.00025\n",
        "    self.model = self.create_model()\n",
        "    self.targetModel = copy.deepcopy(self.model)\n",
        "    self.optimizer = torch.optim.Adam(self.model.parameters(),lr=self.learning_rate)\n",
        "    self.criterion = nn.MSELoss()\n",
        "\n",
        "  # Model that will learn the Q-function/ Agent that will play the game\n",
        "  def create_model(self):\n",
        "    model = nn.Sequential(\n",
        "        nn.Linear(self.state_size,64),\n",
        "        nn.LeakyReLU(negative_slope=0.5),\n",
        "        nn.Linear(64, 128),\n",
        "        nn.LeakyReLU(negative_slope=0.5),\n",
        "        nn.Linear(128, 256),\n",
        "        nn.LeakyReLU(negative_slope=0.5),\n",
        "        nn.Linear(256, 512),\n",
        "        nn.LeakyReLU(negative_slope=0.5),\n",
        "        nn.Linear(512, 256),\n",
        "        nn.LeakyReLU(negative_slope=0.5),\n",
        "        nn.Linear(256,self.action_size)\n",
        "    )\n",
        "    model.to(\"cuda\")\n",
        "    return model\n",
        "    \n",
        "  # Replay memory where different episode will be store\n",
        "  def replay_buffer(self, state,action, reward, next_state, done):\n",
        "    state = torch.tensor(state,dtype=torch.float).to(\"cuda\")\n",
        "    action = torch.tensor(action,dtype=torch.float).to(\"cuda\")\n",
        "    reward = torch.tensor(reward,dtype=torch.float).to(\"cuda\")\n",
        "    next_state = torch.tensor(next_state,dtype=torch.float).to(\"cuda\")\n",
        "    \n",
        "    self.memory.append((state,action, reward, next_state,done))\n",
        "  \n",
        "  # Get action that the agent should take\n",
        "  def action(self, state,episode):\n",
        "\n",
        "    # Allow random exploration for first 100 episodes\n",
        "    if np.random.rand() <= self.epsilon and episode < 200:\n",
        "      \n",
        "      return random.randrange(self.action_size)\n",
        "\n",
        "    # Get action from the agent/ exploitation\n",
        "    state = state.to(\"cuda\")\n",
        "    act_values = self.model(state)\n",
        "    return int(torch.argmax(act_values).item())\n",
        "\n",
        "\n",
        "  # Train the model according to q-learning\n",
        "  def training(self,batch_size, training_iter):\n",
        "    # print(\"Training Iteration: \", training_iter)\n",
        "    minibatch = random.sample(self.memory, batch_size)\n",
        "    targetUpdate = 0\n",
        "    for state,action, reward, next_state,done in minibatch:\n",
        "      targetUpdate += 1\n",
        "      actual_reward = reward\n",
        "      state = state.to(\"cuda\")\n",
        "      next_state = next_state.to(\"cuda\")\n",
        "\n",
        "      predicted_reward = self.model(state)\n",
        "      predicted_reward = predicted_reward[int(action.item())] \n",
        "      if not done:\n",
        "        actual_reward = reward + self.gamma * torch.amax(\n",
        "            self.targetModel(next_state)\n",
        "            )\n",
        "        \n",
        "        self.optimizer.zero_grad()\n",
        "    \n",
        "        loss = self.criterion(predicted_reward,actual_reward)\n",
        "        loss.backward()\n",
        "        self.optimizer.step()\n",
        "      else:\n",
        "        self.optimizer.zero_grad()\n",
        "        loss = self.criterion(predicted_reward,actual_reward)\n",
        "        loss.backward()\n",
        "        self.optimizer.step()\n",
        "      if targetUpdate >= 50:\n",
        "        targetUpdate = 0\n",
        "        self.targetModel = copy.deepcopy(self.model)\n",
        "    if self.epsilon > self.epsilon_min:\n",
        "      self.epsilon *= self.epsilon_decay\n",
        "\n",
        "  \n",
        "\n",
        "\n",
        "\n"
      ],
      "execution_count": 18,
      "outputs": []
    },
    {
      "cell_type": "code",
      "metadata": {
        "id": "0HM99c53wrs2",
        "outputId": "f565ebdd-0485-4043-851a-1658f74e44bf",
        "colab": {
          "base_uri": "https://localhost:8080/",
          "height": 286
        }
      },
      "source": [
        "env = gym.make(\"CartPole-v0\").env\n",
        "obs = env.reset()\n",
        "plt.imshow(env.render(\"rgb_array\"))"
      ],
      "execution_count": 19,
      "outputs": [
        {
          "output_type": "execute_result",
          "data": {
            "text/plain": [
              "<matplotlib.image.AxesImage at 0x7ff4188b9c50>"
            ]
          },
          "metadata": {
            "tags": []
          },
          "execution_count": 19
        },
        {
          "output_type": "display_data",
          "data": {
            "image/png": "[encoded data removed]",
            "text/plain": [
              "<Figure size 432x288 with 1 Axes>"
            ]
          },
          "metadata": {
            "tags": [],
            "needs_background": "light"
          }
        }
      ]
    },
    {
      "cell_type": "code",
      "metadata": {
        "id": "B1NTH6CcvzJR",
        "outputId": "b5e7cf7d-3138-420f-e0df-5782fd00db71",
        "colab": {
          "base_uri": "https://localhost:8080/"
        }
      },
      "source": [
        "state_size = env.observation_space.shape[0]\n",
        "action_size = env.action_space.n\n",
        "agent = Agent(state_size, action_size)\n",
        "agent"
      ],
      "execution_count": 20,
      "outputs": [
        {
          "output_type": "execute_result",
          "data": {
            "text/plain": [
              "<__main__.Agent at 0x7ff4188b9f60>"
            ]
          },
          "metadata": {
            "tags": []
          },
          "execution_count": 20
        }
      ]
    },
    {
      "cell_type": "code",
      "metadata": {
        "id": "AuBXbUI41kiY"
      },
      "source": [
        "\n",
        "\n",
        "def populate_replayBuffer(agent,env, n_episode):\n",
        "  d = Display()\n",
        "  d.start()\n",
        "  done = False\n",
        "  replayBuffer = 2000\n",
        "  training_iter = 1\n",
        "  batch_size = 128\n",
        "  score = []\n",
        "  \n",
        "  for e in range(n_episode):\n",
        "    state = env.reset()\n",
        "    # img = plt.imshow(env.render('rgb_array'))\n",
        "\n",
        "    state = torch.tensor(state,dtype=torch.float)\n",
        "    buffer_size = 2000\n",
        "   \n",
        "    for i in range(2000):\n",
        "\n",
        "      action = agent.action(state,e)\n",
        "      next_state, reward, done, _ = env.step(action)\n",
        "      reward = reward if not done else -10\n",
        "      agent.replay_buffer(state,action,reward,next_state,done)\n",
        "      state = torch.tensor(next_state,dtype=torch.float)\n",
        "      \n",
        "      # img.set_data(env.render('rgb_array'))\n",
        "      # plt.axis('off')\n",
        "      # clear_output(wait=True)\n",
        "      # display.display(plt.gcf())\n",
        "\n",
        "      if done:\n",
        "        if len(agent.memory) >= replayBuffer:\n",
        "          score.append(i)\n",
        "          print(\"episods: {}, Max score: {}, Current Score: {}\".format(e,max(score), i))\n",
        "        break\n",
        "\n",
        "    if len(agent.memory) >= replayBuffer:\n",
        "      training_iter += 1\n",
        "      agent.training(batch_size, training_iter)\n",
        "  return score"
      ],
      "execution_count": 21,
      "outputs": []
    },
    {
      "cell_type": "code",
      "metadata": {
        "id": "7FuVDG2yn561"
      },
      "source": [
        "score = populate_replayBuffer(agent,env,300)"
      ],
      "execution_count": null,
      "outputs": []
    },
    {
      "cell_type": "code",
      "metadata": {
        "id": "fEq7AXtVCTzY",
        "outputId": "a8cec151-6181-42a7-dfa7-d70c7de68e08",
        "colab": {
          "base_uri": "https://localhost:8080/",
          "height": 282
        }
      },
      "source": [
        "plt.plot(score)"
      ],
      "execution_count": 23,
      "outputs": [
        {
          "output_type": "execute_result",
          "data": {
            "text/plain": [
              "[<matplotlib.lines.Line2D at 0x7ff4187c61d0>]"
            ]
          },
          "metadata": {
            "tags": []
          },
          "execution_count": 23
        },
        {
          "output_type": "display_data",
          "data": {
            "image/png": "[encoded data removed]",
            "text/plain": [
              "<Figure size 432x288 with 1 Axes>"
            ]
          },
          "metadata": {
            "tags": [],
            "needs_background": "light"
          }
        }
      ]
    },
    {
      "cell_type": "code",
      "metadata": {
        "id": "Co6B9Wf1AZpb",
        "outputId": "1fc24603-d2ac-4fad-85f0-20a26161bee0",
        "colab": {
          "base_uri": "https://localhost:8080/",
          "height": 677
        }
      },
      "source": [
        "state = env.reset()\n",
        "done = False\n",
        "display_img = plt.imshow(env.render(\"rgb_array\"))\n",
        "i = 0\n",
        "while not done:\n",
        "  state = torch.tensor(state,dtype=torch.float).to(\"cuda\")\n",
        "  action = agent.model(state)\n",
        "  action = int(torch.argmax(action).item())\n",
        "  state, reward, done, _ = env.step(action)\n",
        "  display_img.set_data(env.render(\"rgb_array\"))\n",
        "  clear_output(wait=True)\n",
        "  display.display(plt.gcf())\n",
        "  i += 1\n",
        "print(i)"
      ],
      "execution_count": 24,
      "outputs": [
        {
          "output_type": "error",
          "ename": "KeyboardInterrupt",
          "evalue": "ignored",
          "traceback": [
           
          ]
        },
        {
          "output_type": "display_data",
          "data": {
            "image/png": "[encoded data removed]",
            "text/plain": [
              "<Figure size 432x288 with 1 Axes>"
            ]
          },
          "metadata": {
            "tags": [],
            "needs_background": "light"
          }
        }
      ]
    },
    {
      "cell_type": "code",
      "metadata": {
        "id": "kfKrmasjzrZP"
      },
      "source": [
        "\n",
        "\n",
        "\n"
      ],
      "execution_count": null,
      "outputs": []
    }
  ]
}
