{
  "nbformat": 4,
  "nbformat_minor": 0,
  "metadata": {
    "colab": {
      "name": "DQN pytorch",
      "provenance": [],
      "collapsed_sections": [],
      "include_colab_link": true
    },
    "kernelspec": {
      "display_name": "Python 3",
      "name": "python3"
    },
    "accelerator": "GPU"
  },
  "cells": [
    {
      "cell_type": "markdown",
      "metadata": {
        "id": "view-in-github",
        "colab_type": "text"
      },
      "source": [
        "<a href=\"https://colab.research.google.com/github/kaleem500bc/CartPole-DQNAgent-pytorch/blob/main/DQN_pytorch.ipynb\" target=\"_parent\"><img src=\"https://colab.research.google.com/assets/colab-badge.svg\" alt=\"Open In Colab\"/></a>"
      ]
    },
    {
      "cell_type": "code",
      "metadata": {
        "id": "zSneztlAugFJ",
        "colab": {
          "base_uri": "https://localhost:8080/"
        },
        "outputId": "8e016bd3-131c-45ba-88ac-0c360ec03107"
      },
      "source": [
        "!pip install PyVirtualDisplay"
      ],
      "execution_count": 1,
      "outputs": [
        {
          "output_type": "stream",
          "text": [
            "Collecting PyVirtualDisplay\n",
            "  Downloading https://files.pythonhosted.org/packages/ad/05/6568620fed440941b704664b9cfe5f836ad699ac7694745e7787fbdc8063/PyVirtualDisplay-2.0-py2.py3-none-any.whl\n",
            "Collecting EasyProcess\n",
            "  Downloading https://files.pythonhosted.org/packages/48/3c/75573613641c90c6d094059ac28adb748560d99bd27ee6f80cce398f404e/EasyProcess-0.3-py2.py3-none-any.whl\n",
            "Installing collected packages: EasyProcess, PyVirtualDisplay\n",
            "Successfully installed EasyProcess-0.3 PyVirtualDisplay-2.0\n"
          ],
          "name": "stdout"
        }
      ]
    },
    {
      "cell_type": "code",
      "metadata": {
        "id": "iLAiMoMUyiki"
      },
      "source": [
        "import torch\n",
        "from torch import nn\n",
        "import gym\n",
        "import os\n",
        "from matplotlib import pyplot as plt\n",
        "import numpy as np\n",
        "from collections import deque\n",
        "import random\n",
        "import time\n",
        "from IPython import display\n",
        "from pyvirtualdisplay import Display\n",
        "# from IPython import display\n",
        "from IPython.display import clear_output\n",
        "import copy\n",
        "plt.ion()"
      ],
      "execution_count": 2,
      "outputs": []
    },
    {
      "cell_type": "code",
      "metadata": {
        "id": "1-3wQ9-SfJS3",
        "colab": {
          "base_uri": "https://localhost:8080/"
        },
        "outputId": "27b8d756-c395-4144-d703-6f34b5f0e2f8"
      },
      "source": [
        "# make virtual screen and redirect render to this screen\n",
        "# From https://raw.githubusercontent.com/yandexdataschool/Practical_RL/master/setup_colab.sh\n",
        "!wget -q https://raw.githubusercontent.com/yandexdataschool/Practical_RL/master/setup_colab.sh -O- | bash\n",
        "!bash ../xvfb start\n",
        "os.environ['DISPLAY'] = ':1'"
      ],
      "execution_count": 3,
      "outputs": [
        {
          "output_type": "stream",
          "text": [
            "Selecting previously unselected package xvfb.\n",
            "(Reading database ... 145483 files and directories currently installed.)\n",
            "Preparing to unpack .../xvfb_2%3a1.19.6-1ubuntu4.8_amd64.deb ...\n",
            "Unpacking xvfb (2:1.19.6-1ubuntu4.8) ...\n",
            "Setting up xvfb (2:1.19.6-1ubuntu4.8) ...\n",
            "Processing triggers for man-db (2.8.3-2ubuntu0.1) ...\n",
            "Starting virtual X frame buffer: Xvfb.\n"
          ],
          "name": "stdout"
        }
      ]
    },
    {
      "cell_type": "code",
      "metadata": {
        "id": "7iLj1NL7n64P"
      },
      "source": [
        "class Agent:\n",
        "  def __init__(self,state_size, action_size):\n",
        "    self.state_size = state_size\n",
        "    self.action_size = action_size\n",
        "\n",
        "    # Discount factor\n",
        "    self.gamma = 0.99\n",
        "\n",
        "    # Probability to explore\n",
        "    self.epsilon = 1.0\n",
        "    # Decay probability\n",
        "    self.epsilon_decay = 0.995\n",
        "    self.epsilon_min = 0.01\n",
        "    self.learning_rate = 0.00025\n",
        "    self.device = torch.device(\"cuda\" if torch.cuda.is_available() else \"cpu\")\n",
        "    self.model = self.create_model()\n",
        "    self.targetModel = self.create_model()\n",
        "    self.targetModel.load_state_dict(self.model.state_dict())\n",
        "    self.optimizer = torch.optim.Adam(self.model.parameters(),lr=self.learning_rate)\n",
        "    self.criterion = nn.MSELoss()\n",
        "    \n",
        "\n",
        "  # Model that will learn the Q-function/ Agent that will play the game\n",
        "  def create_model(self):\n",
        "    model = nn.Sequential(\n",
        "        nn.Linear(self.state_size,256),\n",
        "        nn.LeakyReLU(negative_slope=0.5),\n",
        "        nn.Linear(256, 128),\n",
        "        nn.LeakyReLU(negative_slope=0.5),\n",
        "        nn.Linear(128, self.action_size)\n",
        "    )\n",
        "    model.to(self.device)\n",
        "    return model\n",
        "    \n",
        "\n",
        "  \n",
        "  # Get action that the agent should take\n",
        "  def action(self, model, state):\n",
        "\n",
        "    # Decay the epsilon so there is less exploration in the future. \n",
        "    if self.epsilon > self.epsilon_min:\n",
        "        self.epsilon *= self.epsilon_decay\n",
        "\n",
        "    # Allow random exploration\n",
        "    if np.random.rand() <= self.epsilon:\n",
        "      return random.randrange(self.action_size)\n",
        "\n",
        "    # Get action from the agent/ exploitation\n",
        "    act_values = model(state).detach()\n",
        "    return int(torch.argmax(act_values).item())\n",
        "\n"
      ],
      "execution_count": 35,
      "outputs": []
    },
    {
      "cell_type": "code",
      "metadata": {
        "id": "0HM99c53wrs2",
        "colab": {
          "base_uri": "https://localhost:8080/",
          "height": 286
        },
        "outputId": "05ccf6e8-024c-47cc-b7a1-dfab0c28654e"
      },
      "source": [
        "# Initialize the environment\n",
        "env = gym.make(\"CartPole-v0\").env\n",
        "obs = env.reset()\n",
        "plt.imshow(env.render(\"rgb_array\"))"
      ],
      "execution_count": 36,
      "outputs": [
        {
          "output_type": "execute_result",
          "data": {
            "text/plain": [
              "<matplotlib.image.AxesImage at 0x7fbbbaaa8e10>"
            ]
          },
          "metadata": {
            "tags": []
          },
          "execution_count": 36
        },
        {
          "output_type": "display_data",
          "data": {
            "image/png": "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\n",
            "text/plain": [
              "<Figure size 432x288 with 1 Axes>"
            ]
          },
          "metadata": {
            "tags": [],
            "needs_background": "light"
          }
        }
      ]
    },
    {
      "cell_type": "code",
      "metadata": {
        "id": "B1NTH6CcvzJR"
      },
      "source": [
        "# State space of the environment\n",
        "state_size = env.observation_space.shape[0]\n",
        "\n",
        "# Action space of the agent in the environment\n",
        "action_size = env.action_space.n\n",
        "\n",
        "# Initialze the agent which composes of the model (predict value of the state) and target model\n",
        "agent = Agent(state_size, action_size)"
      ],
      "execution_count": 51,
      "outputs": []
    },
    {
      "cell_type": "code",
      "metadata": {
        "id": "2swW4ERmSsDo"
      },
      "source": [
        "# Holds the information about the episode \r\n",
        "class ReplayBuffer():\r\n",
        "  def __init__(self):\r\n",
        "    self.mem_size = 1000\r\n",
        "    self.memory = deque(maxlen=self.mem_size)\r\n",
        "\r\n"
      ],
      "execution_count": 52,
      "outputs": []
    },
    {
      "cell_type": "code",
      "metadata": {
        "id": "7MoC54F3CpBr"
      },
      "source": [
        "\r\n",
        "# Populate the replay buffer with episodes\r\n",
        "replay_buffer = ReplayBuffer()\r\n",
        "\r\n",
        "def populate_buffer():\r\n",
        "  state = env.reset()\r\n",
        "  rewards = []\r\n",
        "  states = [state]\r\n",
        "  actions = []\r\n",
        "  lmbda = 0.99\r\n",
        "  for i in range(200):\r\n",
        "    done = False\r\n",
        "    while not done:\r\n",
        "      act = agent.action(agent.model,torch.tensor(state,dtype=torch.float,device=\"cuda\"))\r\n",
        "\r\n",
        "      next_state, reward, done, _ = env.step(act)\r\n",
        "      reward = reward if not done else -1\r\n",
        "\r\n",
        "      rewards.append(reward)\r\n",
        "      states.append(next_state)\r\n",
        "      actions.append(act)\r\n",
        "      state = next_state\r\n",
        "    \r\n",
        "    discounted_rewards = []\r\n",
        "    for i in range(len(rewards)):\r\n",
        "      t = [(lmbda**j)*r for j,r in enumerate(rewards[i:i+5])]\r\n",
        "      discounted_rewards.append(t)\r\n",
        "\r\n",
        "    for i,(state,act,reward) in enumerate(zip(states[:-1], actions, discounted_rewards)):\r\n",
        "      if i+5 >= len(states):\r\n",
        "        n_state = states[len(states)-1]\r\n",
        "        lmbda_power = -1\r\n",
        "      else:\r\n",
        "        n_state = states[i+5]\r\n",
        "        lmbda_power = 5\r\n",
        "\r\n",
        "      state, n_state = torch.tensor(state, dtype = torch.float, device = \"cuda\"), torch.tensor(n_state, dtype = torch.float, device = \"cuda\")\r\n",
        "      replay_buffer.memory.append((state,act,sum(reward),n_state,lmbda_power))\r\n",
        "\r\n",
        "    actions = []\r\n",
        "    rewards = []\r\n",
        "    state = env.reset()\r\n",
        "    states = [state]\r\n",
        "\r\n",
        "\r\n",
        "populate_buffer()"
      ],
      "execution_count": 53,
      "outputs": []
    },
    {
      "cell_type": "code",
      "metadata": {
        "id": "AYMXEuJwE0e2"
      },
      "source": [
        "losses = []\r\n",
        "STEPS_UPDATE = 100\r\n",
        "\r\n",
        "# Train the model according to q-learning\r\n",
        "def training(agent, replay_buffer, epochs, batch_size):\r\n",
        "  steps_to_update = 0\r\n",
        "  for epoch in range(epochs):\r\n",
        "    print(epoch+1)\r\n",
        "    \r\n",
        "    loss_per_epoch = 0\r\n",
        "\r\n",
        "    for batch in range(replay_buffer.mem_size// batch_size):\r\n",
        "      \r\n",
        "      loss = 0\r\n",
        "\r\n",
        "      # Randomly choose the minibatch to avoid correlation between the transitions\r\n",
        "      minibatch = random.sample(replay_buffer.memory, batch_size)\r\n",
        "\r\n",
        "      for state, action, reward, next_state, power in minibatch:\r\n",
        "      \r\n",
        "        if power != -1:\r\n",
        "          # if episode did not end then expected reward is the current reward and the future rewards from the next state\r\n",
        "          expected_reward = reward + (agent.gamma ** power)* torch.amax(\r\n",
        "              agent.targetModel(next_state).detach()\r\n",
        "              )\r\n",
        "        else:\r\n",
        "          # If episode is ended then the current discounted reward \r\n",
        "          expected_reward = torch.tensor(reward, dtype = torch.float, device = \"cuda\")\r\n",
        "\r\n",
        "        # Distribution Q-value precdicted reward from the current state for each action\r\n",
        "        predicted_reward = agent.model(state)\r\n",
        "\r\n",
        "        # Take the Q-value for the action taken\r\n",
        "        predicted_reward = predicted_reward[action] \r\n",
        "\r\n",
        "        loss = agent.criterion(predicted_reward,expected_reward)\r\n",
        "        loss.backward()\r\n",
        "        loss_per_epoch += loss.item()\r\n",
        "\r\n",
        "      # Update the target model weights according to mean square loss\r\n",
        "      for param in agent.model.parameters():\r\n",
        "        param.grad.data.clamp_(-1, 1)\r\n",
        "      agent.optimizer.step()\r\n",
        "\r\n",
        "      agent.optimizer.zero_grad()\r\n",
        "      \r\n",
        "      \r\n",
        "\r\n",
        "      \r\n",
        "\r\n",
        "      steps_to_update += 1\r\n",
        "      if (steps_to_update) % STEPS_UPDATE == 0:\r\n",
        "        agent.targetModel.load_state_dict(agent.model.state_dict())\r\n",
        "    if (epoch+1) % 10 == 0:\r\n",
        "      populate_buffer()\r\n",
        "      \r\n",
        "      \r\n",
        "\r\n",
        "    losses.append(loss_per_epoch)\r\n",
        "        "
      ],
      "execution_count": 54,
      "outputs": []
    },
    {
      "cell_type": "code",
      "metadata": {
        "id": "7FuVDG2yn561"
      },
      "source": [
        "training(agent, replay_buffer, epochs = 50, batch_size = 10)"
      ],
      "execution_count": null,
      "outputs": []
    },
    {
      "cell_type": "code",
      "metadata": {
        "id": "Co6B9Wf1AZpb",
        "colab": {
          "base_uri": "https://localhost:8080/",
          "height": 538
        },
        "outputId": "8e5c4bc1-422b-4a62-f08a-2bf776499dd9"
      },
      "source": [
        "avg_score = 0\n",
        "# for i in range(10):\n",
        "state = env.reset()\n",
        "done = False\n",
        "display_img = plt.imshow(env.render(\"rgb_array\"))\n",
        "\n",
        "while not done:\n",
        "  state = torch.tensor(state,dtype=torch.float).to(\"cuda\")\n",
        "  action = agent.model(state)\n",
        "  action = int(torch.argmax(action).item())\n",
        "  state, reward, done, _ = env.step(action)\n",
        "  display_img.set_data(env.render(\"rgb_array\"))\n",
        "  clear_output(wait=True)\n",
        "  display.display(plt.gcf())\n",
        "  avg_score += 1\n",
        "print(avg_score)"
      ],
      "execution_count": 58,
      "outputs": [
        {
          "output_type": "display_data",
          "data": {
            "image/png": "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\n",
            "text/plain": [
              "<Figure size 432x288 with 1 Axes>"
            ]
          },
          "metadata": {
            "tags": []
          }
        },
        {
          "output_type": "stream",
          "text": [
            "347\n"
          ],
          "name": "stdout"
        },
        {
          "output_type": "display_data",
          "data": {
            "image/png": "iVBORw0KGgoAAAANSUhEUgAAAW4AAAD8CAYAAABXe05zAAAABHNCSVQICAgIfAhkiAAAAAlwSFlzAAALEgAACxIB0t1+/AAAADh0RVh0U29mdHdhcmUAbWF0cGxvdGxpYiB2ZXJzaW9uMy4yLjIsIGh0dHA6Ly9tYXRwbG90bGliLm9yZy+WH4yJAAASL0lEQVR4nO3df6zdd33f8ecL2zhZYXVMbo1nO3MavKF0Kg66C6HwRxpEG6KpThFDyaZioUju1CCBirYlnbSCtGitREmHlkW4SoYplJAVolhROpo6lir+IMEBY+yEgAEj23NiB/JTNIFrv/fH/TicOr6+5/7KvZ97nw/p6Hy/7+/ne8/7o5y88s3nfs89qSokSf14zXw3IEmaGoNbkjpjcEtSZwxuSeqMwS1JnTG4JakzcxbcSa5O8niSg0lumqvXkaSlJnNxH3eSZcB3gXcDR4CvA9dX1aOz/mKStMTM1RX35cDBqvpBVf0MuAvYMkevJUlLyvI5+rnrgMMD+0eAt000+MILL6yNGzfOUSuS1J9Dhw7x1FNP5WzH5iq4J5VkG7AN4KKLLmLPnj3z1YokLTijo6MTHpurpZKjwIaB/fWt9rKq2l5Vo1U1OjIyMkdtSNLiM1fB/XVgU5KLk7wWuA7YOUevJUlLypwslVTVWJIPAV8BlgF3VtWBuXgtSVpq5myNu6ruB+6fq58vSUuVn5yUpM4Y3JLUGYNbkjpjcEtSZwxuSeqMwS1JnTG4JakzBrckdcbglqTOGNyS1BmDW5I6Y3BLUmcMbknqjMEtSZ0xuCWpMwa3JHXG4JakzhjcktSZGX11WZJDwPPASWCsqkaTrAa+CGwEDgHvr6qnZ9amJOm02bji/s2q2lxVo23/JmBXVW0CdrV9SdIsmYulki3Ajra9A7h2Dl5DkpasmQZ3AX+b5JEk21ptTVUda9tPAGtm+BqSpAEzWuMG3llVR5P8CvBAku8MHqyqSlJnO7EF/TaAiy66aIZtSNLSMaMr7qo62p6PA/cAlwNPJlkL0J6PT3Du9qoararRkZGRmbQhSUvKtIM7yS8lef3pbeC3gP3ATmBrG7YVuHemTUqSfmEmSyVrgHuSnP45f1VV/zfJ14G7k9wA/Ah4/8zblCSdNu3grqofAG85S/3HwLtm0pQkaWJ+clKSOmNwS1JnDG5J6ozBLUmdMbglqTMGtyR1xuCWpM4Y3JLUGYNbkjpjcEtSZwxuSeqMwS1JnTG4JakzBrckdcbglqTOGNyS1BmDW5I6Y3BLUmcMbknqzKTBneTOJMeT7B+orU7yQJLvtecLWj1JPpXkYJJ9Sd46l81L0lI0zBX3Z4Crz6jdBOyqqk3ArrYP8B5gU3tsA26fnTYlSadNGtxV9ffAT84obwF2tO0dwLUD9c/WuK8Bq5Ksna1mJUnTX+NeU1XH2vYTwJq2vQ44PDDuSKu9QpJtSfYk2XPixIlptiFJS8+MfzlZVQXUNM7bXlWjVTU6MjIy0zYkacmYbnA/eXoJpD0fb/WjwIaBcetbTZI0S6Yb3DuBrW17K3DvQP0D7e6SK4BnB5ZUJEmzYPlkA5J8AbgSuDDJEeCPgT8B7k5yA/Aj4P1t+P3ANcBB4KfAB+egZ0la0iYN7qq6foJD7zrL2AJunGlTkqSJ+clJSeqMwS1JnTG4JakzBrckdcbglqTOGNyS1BmDW5I6Y3BLUmcMbknqjMEtSZ0xuCWpMwa3JHXG4JakzhjcktQZg1uSOmNwS1JnDG5J6ozBLUmdmTS4k9yZ5HiS/QO1jyU5mmRve1wzcOzmJAeTPJ7kt+eqcUlaqoa54v4McPVZ6rdW1eb2uB8gyaXAdcCvtXP+V5Jls9WsJGmI4K6qvwd+MuTP2wLcVVUvVdUPGf+298tn0J8k6QwzWeP+UJJ9bSnlglZbBxweGHOk1V4hybYke5LsOXHixAzakKSlZbrBfTtwCbAZOAb82VR/QFVtr6rRqhodGRmZZhuStPRMK7ir6smqOllVp4C/4BfLIUeBDQND17eaJGmWTCu4k6wd2P1d4PQdJzuB65KsTHIxsAl4eGYtSpIGLZ9sQJIvAFcCFyY5AvwxcGWSzUABh4DfB6iqA0nuBh4FxoAbq+rk3LQuSUvTpMFdVdefpXzHOcbfAtwyk6YkSRPzk5OS1BmDW5I6Y3BLUmcMbknqjMEtSZ0xuCWpMwa3JHXG4JakzhjcktQZg1uSOmNwS1JnDG5J6ozBLUmdMbglqTMGtyR1xuCWpM4Y3JLUGYNbkjozaXAn2ZBkd5JHkxxI8uFWX53kgSTfa88XtHqSfCrJwST7krx1stcYe/GFmc9EkpaIYa64x4CPVtWlwBXAjUkuBW4CdlXVJmBX2wd4D+Pf7r4J2AbcPtkLnDr582m0LklL06TBXVXHquobbft54DFgHbAF2NGG7QCubdtbgM/WuK8Bq5KsnfXOJWmJmtIad5KNwGXAQ8CaqjrWDj0BrGnb64DDA6cdabUzf9a2JHuS7PnJM89NsW1JWrqGDu4krwO+BHykqv5R0lZVATWVF66q7VU1WlWjq1f906mcKklL2lDBnWQF46H9+ar6cis/eXoJpD0fb/WjwIaB09e3miRpFgxzV0mAO4DHquqTA4d2Alvb9lbg3oH6B9rdJVcAzw4sqUiSZmj5EGPeAfwe8O0ke1vtj4A/Ae5OcgPwI+D97dj9wDXAQeCnwAdntWNJWuImDe6q+iqQCQ6/6yzjC7hxhn1JkibgJyclqTMGtyR1xuCWpM4Y3JLUmQUR3Cd/9g/8/B+en+82JKkLCyK46+QYp8Z+Nt9tSFIXFkRwS5KGZ3BLUmcMbknqjMEtSZ0xuCWpMwa3JHXG4JakzhjcktQZg1uSOmNwS1JnDG5J6syCCW7/VokkDWeYLwvekGR3kkeTHEjy4Vb/WJKjSfa2xzUD59yc5GCSx5P89qRdVPHkvgdmNBFJWiqG+bLgMeCjVfWNJK8HHklyOmVvrapPDA5OcilwHfBrwD8D/i7Jv6iqk+d6kTr586l3L0lL0KRX3FV1rKq+0bafBx4D1p3jlC3AXVX1UlX9kPFve798NpqVJE1xjTvJRuAy4KFW+lCSfUnuTHJBq60DDg+cdoRzB70kaQqGDu4krwO+BHykqp4DbgcuATYDx4A/m8oLJ9mWZE+SPU+/8OJUTpWkJW2o4E6ygvHQ/nxVfRmgqp6sqpNVdQr4C36xHHIU2DBw+vpW+0eqantVjVbV6AWvO28mc5CkJWWYu0oC3AE8VlWfHKivHRj2u8D+tr0TuC7JyiQXA5uAh2evZUla2oa5q+QdwO8B306yt9X+CLg+yWaggEPA7wNU1YEkdwOPMn5Hyo2T3VEiSRrepMFdVV8FcpZD95/jnFuAW2bQlyRpAgvmk5OSpOEY3JLUGYNbkjqzYIK76hTjdxZKks5lwQT3sz/ax4tPPzHfbUjSgrdggvvU2M+oU941KEmTWTDBLUkajsEtSZ0xuCWpMwa3JHXG4JakzhjcktQZg1uSOjPMn3V9VVQVf/jRP+TJ58YmHbtixQpuu+02RkZGXoXOJGlhWRDBfYrXUITdD+7mu0d+POn4lStX8olPfGLScZK0GC2IpZLnx1Zz+Kf/kjrrn/2WJA1aEMFdFQ489xu8MLZqvluRpAVvQQQ3wMlazsa1b5jvNiRpwRvmy4LPS/Jwkm8lOZDk461+cZKHkhxM8sUkr231lW3/YDu+cZhGVi57kWt/4+KZzEWSloRhrrhfAq6qqrcAm4Grk1wB/Clwa1W9CXgauKGNvwF4utVvbePO6eTYS6x+8cu88Nz/m84cJGlJGebLggt4oe2uaI8CrgL+XavvAD4G3A5sadsAfw38zyRpP+esjp/4AX/w3/+cYsIhkqRmqNsBkywDHgHeBNwGfB94pqpO33R9BFjXttcBhwGqaizJs8AbgKfO9RqnJs71VxgbG+PTn/40q1b5y0xJi9MTT0z8xTJDBXdVnQQ2J1kF3AO8eaZNJdkGbJvOucuWLeO9730v69atm3ywJHXoc5/73ITHpvQBnKp6Jslu4O3AqiTL21X3euBoG3YU2AAcSbIc+GXgFZ+qqartwHaAJFNaI0nCyMgIb3zjG6dymiR1Y8WKFRMeG+aukpF2pU2S84F3A48Bu4H3tWFbgXvb9s62Tzv+4LnWtyVJUzPMFfdaYEdb534NcHdV3ZfkUeCuJP8N+CZwRxt/B/CXSQ4CPwGum4O+JWnJGuaukn3AZWep/wC4/Cz1F4F/OyvdSZJeYcF8clKSNByDW5I6syD+rOuqVau48sorhx6/YsUKzj///LlrSJIWsAUR3Jdccgn33HPPfLchSV1wqUSSOmNwS1JnDG5J6ozBLUmdMbglqTMGtyR1xuCWpM4Y3JLUGYNbkjpjcEtSZwxuSeqMwS1JnTG4JakzBrckdWaYLws+L8nDSb6V5ECSj7f6Z5L8MMne9tjc6knyqSQHk+xL8ta5noQkLSXD/D3ul4CrquqFJCuAryb5m3bsP1bVX58x/j3ApvZ4G3B7e5YkzYJJr7hr3Attd0V71DlO2QJ8tp33NWBVkrUzb1WSBEOucSdZlmQvcBx4oKoeaoduacshtyZZ2WrrgMMDpx9pNUnSLBgquKvqZFVtBtYDlyf5V8DNwJuBfw2sBv7zVF44ybYke5LsOXHixBTblqSla0p3lVTVM8Bu4OqqOtaWQ14C/jdweRt2FNgwcNr6VjvzZ22vqtGqGh0ZGZle95K0BA1zV8lIklVt+3zg3cB3Tq9bJwlwLbC/nbIT+EC7u+QK4NmqOjYn3UvSEjTMXSVrgR1JljEe9HdX1X1JHkwyAgTYC/yHNv5+4BrgIPBT4IOz37YkLV2TBndV7QMuO0v9qgnGF3DjzFuTJJ2Nn5yUpM4Y3JLUGYNbkjpjcEtSZwxuSeqMwS1JnTG4JakzBrckdcbglqTOGNyS1BmDW5I6Y3BLUmcMbknqjMEtSZ0xuCWpMwa3JHXG4JakzhjcktQZg1uSOmNwS1JnDG5J6ozBLUmdSVXNdw8keR54fL77mCMXAk/NdxNzYLHOCxbv3JxXX/55VY2c7cDyV7uTCTxeVaPz3cRcSLJnMc5tsc4LFu/cnNfi4VKJJHXG4JakziyU4N4+3w3MocU6t8U6L1i8c3Nei8SC+OWkJGl4C+WKW5I0pHkP7iRXJ3k8ycEkN813P1OV5M4kx5PsH6itTvJAku+15wtaPUk+1ea6L8lb56/zc0uyIcnuJI8mOZDkw63e9dySnJfk4STfavP6eKtfnOSh1v8Xk7y21Ve2/YPt+Mb57H8ySZYl+WaS+9r+YpnXoSTfTrI3yZ5W6/q9OBPzGtxJlgG3Ae8BLgWuT3LpfPY0DZ8Brj6jdhOwq6o2AbvaPozPc1N7bANuf5V6nI4x4KNVdSlwBXBj+2fT+9xeAq6qqrcAm4Grk1wB/Clwa1W9CXgauKGNvwF4utVvbeMWsg8Djw3sL5Z5AfxmVW0euPWv9/fi9FXVvD2AtwNfGdi/Gbh5Pnua5jw2AvsH9h8H1rbttYzfpw7waeD6s41b6A/gXuDdi2luwD8BvgG8jfEPcCxv9Zffl8BXgLe37eVtXOa79wnms57xALsKuA/IYphX6/EQcOEZtUXzXpzqY76XStYBhwf2j7Ra79ZU1bG2/QSwpm13Od/2v9GXAQ+xCObWlhP2AseBB4DvA89U1VgbMtj7y/Nqx58F3vDqdjy0Pwf+E3Cq7b+BxTEvgAL+NskjSba1WvfvxelaKJ+cXLSqqpJ0e+tOktcBXwI+UlXPJXn5WK9zq6qTwOYkq4B7gDfPc0szluTfAMer6pEkV853P3PgnVV1NMmvAA8k+c7gwV7fi9M131fcR4ENA/vrW613TyZZC9Cej7d6V/NNsoLx0P58VX25lRfF3ACq6hlgN+NLCKuSnL6QGez95Xm1478M/PhVbnUY7wB+J8kh4C7Gl0v+B/3PC4CqOtqejzP+H9vLWUTvxama7+D+OrCp/eb7tcB1wM557mk27AS2tu2tjK8Pn65/oP3W+wrg2YH/1VtQMn5pfQfwWFV9cuBQ13NLMtKutElyPuPr9o8xHuDva8POnNfp+b4PeLDawulCUlU3V9X6qtrI+L9HD1bVv6fzeQEk+aUkrz+9DfwWsJ/O34szMt+L7MA1wHcZX2f8L/PdzzT6/wJwDPg542tpNzC+VrgL+B7wd8DqNjaM30XzfeDbwOh893+Oeb2T8XXFfcDe9rim97kBvw58s81rP/BfW/1XgYeBg8D/AVa2+nlt/2A7/qvzPYch5nglcN9imVebw7fa48DpnOj9vTiTh5+clKTOzPdSiSRpigxuSeqMwS1JnTG4JakzBrckdcbglqTOGNyS1BmDW5I68/8BERs7ijO2rkIAAAAASUVORK5CYII=\n",
            "text/plain": [
              "<Figure size 432x288 with 1 Axes>"
            ]
          },
          "metadata": {
            "tags": [],
            "needs_background": "light"
          }
        }
      ]
    },
    
}
