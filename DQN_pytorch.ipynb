{
  "nbformat": 4,
  "nbformat_minor": 0,
  "metadata": {
    "colab": {
      "name": "DQN pytorch",
      "provenance": [],
      "collapsed_sections": [],
      "include_colab_link": true
    },
    "kernelspec": {
      "display_name": "Python 3",
      "name": "python3"
    },
    "accelerator": "GPU"
  },
  "cells": [
    {
      "cell_type": "markdown",
      "metadata": {
        "id": "view-in-github",
        "colab_type": "text"
      },
      "source": [
        "<a href=\"https://colab.research.google.com/github/kaleem500bc/CartPole-DQNAgent-pytorch/blob/main/DQN_pytorch.ipynb\" target=\"_parent\"><img src=\"https://colab.research.google.com/assets/colab-badge.svg\" alt=\"Open In Colab\"/></a>"
      ]
    },
    {
      "cell_type": "code",
      "metadata": {
        "id": "zSneztlAugFJ",
        "outputId": "24c37c30-9065-41d9-9be2-16b05eb1f06d",
        "colab": {
          "base_uri": "https://localhost:8080/"
        }
      },
      "source": [
        "!pip install PyVirtualDisplay"
      ],
      "execution_count": 2,
      "outputs": [
        {
          "output_type": "stream",
          "text": [
            "Requirement already satisfied: PyVirtualDisplay in /usr/local/lib/python3.6/dist-packages (1.3.2)\n",
            "Requirement already satisfied: EasyProcess in /usr/local/lib/python3.6/dist-packages (from PyVirtualDisplay) (0.3)\n"
          ],
          "name": "stdout"
        }
      ]
    },
    {
      "cell_type": "code",
      "metadata": {
        "id": "iLAiMoMUyiki"
      },
      "source": [
        "import torch\n",
        "from torch import nn\n",
        "import gym\n",
        "import os\n",
        "from matplotlib import pyplot as plt\n",
        "import numpy as np\n",
        "from collections import deque\n",
        "import random\n",
        "import time\n",
        "from IPython import display\n",
        "from pyvirtualdisplay import Display\n",
        "from IPython.display import clear_output\n",
        "import copy"
      ],
      "execution_count": 116,
      "outputs": []
    },
    {
      "cell_type": "code",
      "metadata": {
        "id": "1-3wQ9-SfJS3",
        "outputId": "1f971da6-fa53-4b36-faac-9c698b27b042",
        "colab": {
          "base_uri": "https://localhost:8080/"
        }
      },
      "source": [
        "# make virtual screen and redirect render to this screen\n",
        "# From https://raw.githubusercontent.com/yandexdataschool/Practical_RL/master/setup_colab.sh\n",
        "!wget -q https://raw.githubusercontent.com/yandexdataschool/Practical_RL/master/setup_colab.sh -O- | bash\n",
        "!bash ../xvfb start\n",
        "os.environ['DISPLAY'] = ':1'"
      ],
      "execution_count": 117,
      "outputs": [
        {
          "output_type": "stream",
          "text": [
            "Starting virtual X frame buffer: Xvfb.\n"
          ],
          "name": "stdout"
        }
      ]
    },
    {
      "cell_type": "code",
      "metadata": {
        "id": "7iLj1NL7n64P"
      },
      "source": [
        "class Agent:\n",
        "  def __init__(self,state_size, action_size):\n",
        "    self.state_size = state_size\n",
        "    self.action_size = action_size\n",
        "    self.memory = deque(maxlen=2000)\n",
        "    self.gamma = 0.95\n",
        "    self.epsilon = 1.0\n",
        "    self.epsilon_decay = 0.995\n",
        "    self.epsilon_min = 0.01\n",
        "    self.learning_rate = 0.001\n",
        "    self.model = self.create_model()\n",
        "    self.targetModel = self.create_model()\n",
        "    self.optimizer = torch.optim.Adam(self.model.parameters(),lr=0.00025)\n",
        "    self.criterion = nn.MSELoss()\n",
        "\n",
        "  # Model that will learn the Q-function/ Agent that will play the game\n",
        "  def create_model(self):\n",
        "    model = nn.Sequential(\n",
        "        nn.Linear(self.state_size,256),\n",
        "        nn.ReLU(),\n",
        "        nn.Linear(256, 128),\n",
        "        nn.ReLU(),\n",
        "        nn.Linear(128,self.action_size)\n",
        "    )\n",
        "    model.to(\"cuda\")\n",
        "    return model\n",
        "    \n",
        "  # Replay memory where different episode will be store\n",
        "  def replay_buffer(self, state,action, reward, next_state, done):\n",
        "    state = torch.tensor(state,dtype=torch.float).to(\"cuda\")\n",
        "    action = torch.tensor(action,dtype=torch.float).to(\"cuda\")\n",
        "    reward = torch.tensor(reward,dtype=torch.float).to(\"cuda\")\n",
        "    next_state = torch.tensor(next_state,dtype=torch.float).to(\"cuda\")\n",
        "    \n",
        "    self.memory.append((state,action, reward, next_state,done))\n",
        "  \n",
        "  # Get action that the agent should take\n",
        "  def action(self, state,e):\n",
        "\n",
        "    # if np.random.rand() <= self.epsilon and e < 150:\n",
        "    #   # Random exploration\n",
        "    #   return random.randrange(self.action_size)\n",
        "\n",
        "    # Get action from the agent/ exploitation\n",
        "    state = state.to(\"cuda\")\n",
        "    act_values = self.model(state)\n",
        "    return int(torch.argmax(act_values).item())\n",
        "\n",
        "\n",
        "  # Train the model according to q-learning\n",
        "  def training(self,batch_size, training_iter):\n",
        "    # print(\"Training Iteration: \", training_iter)\n",
        "    minibatch = random.sample(self.memory, batch_size)\n",
        "    targetUpdate = 0\n",
        "    for state,action, reward, next_state,done in minibatch:\n",
        "      targetUpdate += 1\n",
        "      actual_reward = reward\n",
        "      state = state.to(\"cuda\")\n",
        "      next_state = next_state.to(\"cuda\")\n",
        "\n",
        "      predicted_reward = self.model(state)\n",
        "      predicted_reward = predicted_reward[int(action.item())] \n",
        "      if not done:\n",
        "        actual_reward = reward + self.gamma * torch.amax(\n",
        "            self.targetModel(next_state)\n",
        "            )\n",
        "        \n",
        "        self.optimizer.zero_grad()\n",
        "    \n",
        "        loss = self.criterion(actual_reward,predicted_reward)\n",
        "        loss.backward()\n",
        "        self.optimizer.step()\n",
        "      else:\n",
        "        self.optimizer.zero_grad()\n",
        "        loss = self.criterion(actual_reward,predicted_reward)\n",
        "        loss.backward()\n",
        "        self.optimizer.step()\n",
        "      if targetUpdate >= 16:\n",
        "        targetUpdate = 0\n",
        "        self.targetModel = copy.deepcopy(self.model)\n",
        "    # if self.epsilon > self.epsilon_min:\n",
        "    #   self.epsilon *= self.epsilon_decay\n",
        "\n",
        "  \n",
        "\n",
        "\n",
        "\n"
      ],
      "execution_count": 118,
      "outputs": []
    },
    {
      "cell_type": "code",
      "metadata": {
        "id": "0HM99c53wrs2",
        "outputId": "b5494e5a-2907-427b-ce00-4d5a7fd185e1",
        "colab": {
          "base_uri": "https://localhost:8080/",
          "height": 286
        }
      },
      "source": [
        "env = gym.make(\"CartPole-v0\").env\n",
        "obs = env.reset()\n",
        "plt.imshow(env.render(\"rgb_array\"))"
      ],
      "execution_count": 119,
      "outputs": [
        {
          "output_type": "execute_result",
          "data": {
            "text/plain": [
              "<matplotlib.image.AxesImage at 0x7fccd9fa4be0>"
            ]
          },
          "metadata": {
            "tags": []
          },
          "execution_count": 119
        },
        {
          "output_type": "display_data",
          "data": {
            "image/png": "[encoded data removed]",
            "text/plain": [
              "<Figure size 432x288 with 1 Axes>"
            ]
          },
          "metadata": {
            "tags": [],
            "needs_background": "light"
          }
        }
      ]
    },
    {
      "cell_type": "code",
      "metadata": {
        "id": "B1NTH6CcvzJR",
        "outputId": "e5eb46e8-a76a-427b-d1ce-731abe8e3312",
        "colab": {
          "base_uri": "https://localhost:8080/"
        }
      },
      "source": [
        "state_size = env.observation_space.shape[0]\n",
        "action_size = env.action_space.n\n",
        "agent = Agent(state_size, action_size)\n",
        "agent"
      ],
      "execution_count": 120,
      "outputs": [
        {
          "output_type": "execute_result",
          "data": {
            "text/plain": [
              "<__main__.Agent at 0x7fccd9fa4cc0>"
            ]
          },
          "metadata": {
            "tags": []
          },
          "execution_count": 120
        }
      ]
    },
    {
      "cell_type": "code",
      "metadata": {
        "id": "AuBXbUI41kiY"
      },
      "source": [
        "def populate_replayBuffer(agent,env, n_episode):\n",
        "  d = Display()\n",
        "  d.start()\n",
        "  done = False\n",
        "  replayBuffer = 2000\n",
        "  training_iter = 1\n",
        "  batch_size = 256\n",
        "  score = []\n",
        "  for e in range(n_episode):\n",
        "    state = env.reset()\n",
        "    # img = plt.imshow(env.render('rgb_array'))\n",
        "\n",
        "    state = torch.tensor(state,dtype=torch.float)\n",
        "    buffer_size = 2000\n",
        "    for i in range(2000):\n",
        "      action = agent.action(state,e)\n",
        "      next_state, reward, done, _ = env.step(action)\n",
        "      reward = reward if not done else -10\n",
        "      agent.replay_buffer(state,action,reward,next_state,done)\n",
        "      state = torch.tensor(next_state,dtype=torch.float)\n",
        "      \n",
        "      # img.set_data(env.render('rgb_array'))\n",
        "      # plt.axis('off')\n",
        "      # clear_output(wait=True)\n",
        "      # display.display(plt.gcf())\n",
        "\n",
        "      if done:\n",
        "        if len(agent.memory) >= replayBuffer:\n",
        "          score.append(i)\n",
        "          print(\"episods: {}, Max score: {}, Current Score: {}\".format(e,max(score), i))\n",
        "        break\n",
        "\n",
        "    if len(agent.memory) >= replayBuffer:\n",
        "      training_iter += 1\n",
        "      agent.training(batch_size, training_iter)\n",
        "  return score"
      ],
      "execution_count": 121,
      "outputs": []
    },
    {
      "cell_type": "code",
      "metadata": {
        "id": "7FuVDG2yn561",
        "outputId": "6c8e7765-2f17-4f09-db88-2e8470e875e0",
        "colab": {
          "base_uri": "https://localhost:8080/"
        }
      },
      "source": [
        "scoreWithDropout = populate_replayBuffer(agent,env,500)"
      ],
      "execution_count": 122,
      "outputs": [
        {
          "output_type": "stream",
          "text": [
            "/usr/local/lib/python3.6/dist-packages/ipykernel_launcher.py:30: UserWarning: To copy construct from a tensor, it is recommended to use sourceTensor.clone().detach() or sourceTensor.clone().detach().requires_grad_(True), rather than torch.tensor(sourceTensor).\n"
          ],
          "name": "stderr"
        },
        {
          "output_type": "stream",
          "text": [
            "episods: 213, Max score: 9, Current Score: 9\n",
            "episods: 214, Max score: 12, Current Score: 12\n",
            "episods: 215, Max score: 12, Current Score: 10\n",
            "episods: 216, Max score: 12, Current Score: 9\n",
            "episods: 217, Max score: 12, Current Score: 9\n",
            "episods: 218, Max score: 12, Current Score: 9\n",
            "episods: 219, Max score: 12, Current Score: 8\n",
            "episods: 220, Max score: 12, Current Score: 7\n",
            "episods: 221, Max score: 12, Current Score: 10\n",
            "episods: 222, Max score: 12, Current Score: 9\n",
            "episods: 223, Max score: 12, Current Score: 8\n",
            "episods: 224, Max score: 12, Current Score: 10\n",
            "episods: 225, Max score: 12, Current Score: 8\n",
            "episods: 226, Max score: 12, Current Score: 8\n",
            "episods: 227, Max score: 12, Current Score: 8\n",
            "episods: 228, Max score: 12, Current Score: 8\n",
            "episods: 229, Max score: 12, Current Score: 9\n",
            "episods: 230, Max score: 12, Current Score: 8\n",
            "episods: 231, Max score: 12, Current Score: 10\n",
            "episods: 232, Max score: 12, Current Score: 10\n",
            "episods: 233, Max score: 12, Current Score: 9\n",
            "episods: 234, Max score: 12, Current Score: 9\n",
            "episods: 235, Max score: 12, Current Score: 9\n",
            "episods: 236, Max score: 12, Current Score: 7\n",
            "episods: 237, Max score: 12, Current Score: 9\n",
            "episods: 238, Max score: 12, Current Score: 9\n",
            "episods: 239, Max score: 12, Current Score: 10\n",
            "episods: 240, Max score: 12, Current Score: 9\n",
            "episods: 241, Max score: 12, Current Score: 8\n",
            "episods: 242, Max score: 12, Current Score: 8\n",
            "episods: 243, Max score: 12, Current Score: 9\n",
            "episods: 244, Max score: 12, Current Score: 9\n",
            "episods: 245, Max score: 12, Current Score: 8\n",
            "episods: 246, Max score: 12, Current Score: 8\n",
            "episods: 247, Max score: 12, Current Score: 8\n",
            "episods: 248, Max score: 12, Current Score: 8\n",
            "episods: 249, Max score: 12, Current Score: 8\n",
            "episods: 250, Max score: 12, Current Score: 9\n",
            "episods: 251, Max score: 12, Current Score: 8\n",
            "episods: 252, Max score: 12, Current Score: 11\n",
            "episods: 253, Max score: 12, Current Score: 10\n",
            "episods: 254, Max score: 12, Current Score: 8\n",
            "episods: 255, Max score: 12, Current Score: 8\n",
            "episods: 256, Max score: 12, Current Score: 7\n",
            "episods: 257, Max score: 12, Current Score: 8\n",
            "episods: 258, Max score: 12, Current Score: 8\n",
            "episods: 259, Max score: 12, Current Score: 9\n",
            "episods: 260, Max score: 12, Current Score: 8\n",
            "episods: 261, Max score: 12, Current Score: 8\n",
            "episods: 262, Max score: 12, Current Score: 8\n",
            "episods: 263, Max score: 12, Current Score: 8\n",
            "episods: 264, Max score: 12, Current Score: 9\n",
            "episods: 265, Max score: 12, Current Score: 9\n",
            "episods: 266, Max score: 12, Current Score: 8\n",
            "episods: 267, Max score: 12, Current Score: 8\n",
            "episods: 268, Max score: 12, Current Score: 10\n",
            "episods: 269, Max score: 12, Current Score: 8\n",
            "episods: 270, Max score: 12, Current Score: 8\n",
            "episods: 271, Max score: 12, Current Score: 9\n",
            "episods: 272, Max score: 12, Current Score: 9\n",
            "episods: 273, Max score: 12, Current Score: 9\n",
            "episods: 274, Max score: 12, Current Score: 11\n",
            "episods: 275, Max score: 12, Current Score: 9\n",
            "episods: 276, Max score: 12, Current Score: 9\n",
            "episods: 277, Max score: 12, Current Score: 10\n",
            "episods: 278, Max score: 12, Current Score: 9\n",
            "episods: 279, Max score: 12, Current Score: 8\n",
            "episods: 280, Max score: 12, Current Score: 11\n",
            "episods: 281, Max score: 12, Current Score: 10\n",
            "episods: 282, Max score: 12, Current Score: 10\n",
            "episods: 283, Max score: 12, Current Score: 8\n",
            "episods: 284, Max score: 12, Current Score: 10\n",
            "episods: 285, Max score: 12, Current Score: 10\n",
            "episods: 286, Max score: 12, Current Score: 10\n",
            "episods: 287, Max score: 12, Current Score: 9\n",
            "episods: 288, Max score: 12, Current Score: 9\n",
            "episods: 289, Max score: 12, Current Score: 11\n",
            "episods: 290, Max score: 12, Current Score: 8\n",
            "episods: 291, Max score: 12, Current Score: 8\n",
            "episods: 292, Max score: 12, Current Score: 8\n",
            "episods: 293, Max score: 12, Current Score: 10\n",
            "episods: 294, Max score: 12, Current Score: 10\n",
            "episods: 295, Max score: 12, Current Score: 9\n",
            "episods: 296, Max score: 12, Current Score: 11\n",
            "episods: 297, Max score: 12, Current Score: 12\n",
            "episods: 298, Max score: 12, Current Score: 10\n",
            "episods: 299, Max score: 12, Current Score: 11\n",
            "episods: 300, Max score: 12, Current Score: 10\n",
            "episods: 301, Max score: 12, Current Score: 11\n",
            "episods: 302, Max score: 15, Current Score: 15\n",
            "episods: 303, Max score: 18, Current Score: 18\n",
            "episods: 304, Max score: 18, Current Score: 17\n",
            "episods: 305, Max score: 21, Current Score: 21\n",
            "episods: 306, Max score: 101, Current Score: 101\n",
            "episods: 307, Max score: 101, Current Score: 8\n",
            "episods: 308, Max score: 101, Current Score: 9\n",
            "episods: 309, Max score: 101, Current Score: 8\n",
            "episods: 310, Max score: 101, Current Score: 9\n",
            "episods: 311, Max score: 101, Current Score: 8\n",
            "episods: 312, Max score: 101, Current Score: 7\n",
            "episods: 313, Max score: 101, Current Score: 7\n",
            "episods: 314, Max score: 101, Current Score: 9\n",
            "episods: 315, Max score: 101, Current Score: 8\n",
            "episods: 316, Max score: 101, Current Score: 8\n",
            "episods: 317, Max score: 101, Current Score: 9\n",
            "episods: 318, Max score: 101, Current Score: 9\n",
            "episods: 319, Max score: 101, Current Score: 9\n",
            "episods: 320, Max score: 101, Current Score: 9\n",
            "episods: 321, Max score: 101, Current Score: 9\n",
            "episods: 322, Max score: 101, Current Score: 9\n",
            "episods: 323, Max score: 101, Current Score: 10\n",
            "episods: 324, Max score: 101, Current Score: 19\n",
            "episods: 325, Max score: 101, Current Score: 53\n",
            "episods: 326, Max score: 101, Current Score: 8\n",
            "episods: 327, Max score: 101, Current Score: 15\n",
            "episods: 328, Max score: 101, Current Score: 14\n",
            "episods: 329, Max score: 101, Current Score: 16\n",
            "episods: 330, Max score: 101, Current Score: 9\n",
            "episods: 331, Max score: 101, Current Score: 22\n",
            "episods: 332, Max score: 101, Current Score: 18\n",
            "episods: 333, Max score: 101, Current Score: 19\n",
            "episods: 334, Max score: 101, Current Score: 12\n",
            "episods: 335, Max score: 101, Current Score: 16\n",
            "episods: 336, Max score: 101, Current Score: 62\n",
            "episods: 337, Max score: 101, Current Score: 50\n",
            "episods: 338, Max score: 101, Current Score: 49\n",
            "episods: 339, Max score: 101, Current Score: 92\n",
            "episods: 340, Max score: 217, Current Score: 217\n",
            "episods: 341, Max score: 217, Current Score: 106\n",
            "episods: 342, Max score: 217, Current Score: 105\n",
            "episods: 343, Max score: 217, Current Score: 80\n",
            "episods: 344, Max score: 217, Current Score: 115\n",
            "episods: 345, Max score: 217, Current Score: 105\n",
            "episods: 346, Max score: 217, Current Score: 108\n",
            "episods: 347, Max score: 217, Current Score: 83\n",
            "episods: 348, Max score: 217, Current Score: 63\n",
            "episods: 349, Max score: 217, Current Score: 159\n",
            "episods: 350, Max score: 264, Current Score: 264\n",
            "episods: 351, Max score: 264, Current Score: 152\n",
            "episods: 352, Max score: 345, Current Score: 345\n",
            "episods: 353, Max score: 345, Current Score: 161\n",
            "episods: 354, Max score: 345, Current Score: 154\n",
            "episods: 355, Max score: 345, Current Score: 82\n",
            "episods: 356, Max score: 345, Current Score: 212\n",
            "episods: 357, Max score: 345, Current Score: 136\n",
            "episods: 358, Max score: 345, Current Score: 220\n",
            "episods: 359, Max score: 345, Current Score: 112\n",
            "episods: 360, Max score: 345, Current Score: 139\n",
            "episods: 361, Max score: 345, Current Score: 182\n",
            "episods: 362, Max score: 345, Current Score: 129\n",
            "episods: 363, Max score: 345, Current Score: 176\n",
            "episods: 364, Max score: 345, Current Score: 157\n",
            "episods: 365, Max score: 345, Current Score: 192\n",
            "episods: 366, Max score: 345, Current Score: 159\n",
            "episods: 367, Max score: 345, Current Score: 194\n",
            "episods: 368, Max score: 345, Current Score: 218\n",
            "episods: 369, Max score: 345, Current Score: 177\n",
            "episods: 370, Max score: 507, Current Score: 507\n",
            "episods: 371, Max score: 507, Current Score: 108\n",
            "episods: 372, Max score: 507, Current Score: 184\n",
            "episods: 373, Max score: 507, Current Score: 227\n",
            "episods: 374, Max score: 507, Current Score: 346\n",
            "episods: 375, Max score: 507, Current Score: 193\n",
            "episods: 376, Max score: 507, Current Score: 165\n",
            "episods: 377, Max score: 507, Current Score: 367\n",
            "episods: 378, Max score: 507, Current Score: 302\n",
            "episods: 379, Max score: 507, Current Score: 84\n",
            "episods: 380, Max score: 507, Current Score: 220\n",
            "episods: 381, Max score: 507, Current Score: 481\n",
            "episods: 382, Max score: 507, Current Score: 241\n",
            "episods: 383, Max score: 507, Current Score: 70\n",
            "episods: 384, Max score: 507, Current Score: 163\n",
            "episods: 385, Max score: 523, Current Score: 523\n",
            "episods: 386, Max score: 523, Current Score: 130\n",
            "episods: 387, Max score: 523, Current Score: 198\n",
            "episods: 388, Max score: 523, Current Score: 60\n",
            "episods: 389, Max score: 523, Current Score: 134\n",
            "episods: 390, Max score: 523, Current Score: 137\n",
            "episods: 391, Max score: 523, Current Score: 117\n",
            "episods: 392, Max score: 523, Current Score: 113\n",
            "episods: 393, Max score: 523, Current Score: 131\n",
            "episods: 394, Max score: 523, Current Score: 176\n",
            "episods: 395, Max score: 523, Current Score: 54\n",
            "episods: 396, Max score: 523, Current Score: 75\n",
            "episods: 397, Max score: 523, Current Score: 59\n",
            "episods: 398, Max score: 523, Current Score: 124\n",
            "episods: 399, Max score: 523, Current Score: 138\n",
            "episods: 400, Max score: 523, Current Score: 55\n",
            "episods: 401, Max score: 523, Current Score: 156\n",
            "episods: 402, Max score: 523, Current Score: 54\n",
            "episods: 403, Max score: 523, Current Score: 146\n",
            "episods: 404, Max score: 523, Current Score: 179\n",
            "episods: 405, Max score: 523, Current Score: 135\n",
            "episods: 406, Max score: 523, Current Score: 155\n",
            "episods: 407, Max score: 523, Current Score: 385\n",
            "episods: 408, Max score: 523, Current Score: 144\n",
            "episods: 409, Max score: 523, Current Score: 157\n",
            "episods: 410, Max score: 523, Current Score: 99\n",
            "episods: 411, Max score: 523, Current Score: 122\n",
            "episods: 412, Max score: 523, Current Score: 123\n",
            "episods: 413, Max score: 523, Current Score: 116\n",
            "episods: 414, Max score: 523, Current Score: 150\n",
            "episods: 415, Max score: 523, Current Score: 154\n",
            "episods: 416, Max score: 523, Current Score: 117\n",
            "episods: 417, Max score: 523, Current Score: 129\n",
            "episods: 418, Max score: 523, Current Score: 154\n",
            "episods: 419, Max score: 523, Current Score: 115\n",
            "episods: 420, Max score: 523, Current Score: 202\n",
            "episods: 421, Max score: 523, Current Score: 139\n",
            "episods: 422, Max score: 523, Current Score: 137\n",
            "episods: 423, Max score: 523, Current Score: 143\n",
            "episods: 424, Max score: 523, Current Score: 136\n",
            "episods: 425, Max score: 523, Current Score: 115\n",
            "episods: 426, Max score: 523, Current Score: 119\n",
            "episods: 427, Max score: 523, Current Score: 152\n",
            "episods: 428, Max score: 523, Current Score: 113\n",
            "episods: 429, Max score: 523, Current Score: 145\n",
            "episods: 430, Max score: 523, Current Score: 125\n",
            "episods: 431, Max score: 523, Current Score: 150\n",
            "episods: 432, Max score: 523, Current Score: 139\n",
            "episods: 433, Max score: 523, Current Score: 177\n",
            "episods: 434, Max score: 523, Current Score: 159\n",
            "episods: 435, Max score: 523, Current Score: 212\n",
            "episods: 436, Max score: 523, Current Score: 156\n",
            "episods: 437, Max score: 523, Current Score: 103\n",
            "episods: 438, Max score: 523, Current Score: 185\n",
            "episods: 439, Max score: 523, Current Score: 148\n",
            "episods: 440, Max score: 523, Current Score: 200\n",
            "episods: 441, Max score: 523, Current Score: 139\n",
            "episods: 442, Max score: 523, Current Score: 193\n",
            "episods: 443, Max score: 523, Current Score: 236\n",
            "episods: 444, Max score: 523, Current Score: 148\n",
            "episods: 445, Max score: 523, Current Score: 181\n",
            "episods: 446, Max score: 523, Current Score: 260\n",
            "episods: 447, Max score: 523, Current Score: 135\n",
            "episods: 448, Max score: 523, Current Score: 147\n",
            "episods: 449, Max score: 523, Current Score: 153\n",
            "episods: 450, Max score: 523, Current Score: 283\n",
            "episods: 451, Max score: 523, Current Score: 169\n",
            "episods: 452, Max score: 584, Current Score: 584\n",
            "episods: 453, Max score: 584, Current Score: 212\n",
            "episods: 454, Max score: 584, Current Score: 565\n",
            "episods: 455, Max score: 773, Current Score: 773\n",
            "episods: 456, Max score: 773, Current Score: 253\n",
            "episods: 457, Max score: 773, Current Score: 427\n",
            "episods: 458, Max score: 773, Current Score: 421\n",
            "episods: 459, Max score: 773, Current Score: 283\n",
            "episods: 460, Max score: 773, Current Score: 379\n",
            "episods: 461, Max score: 773, Current Score: 455\n",
            "episods: 462, Max score: 773, Current Score: 244\n",
            "episods: 463, Max score: 773, Current Score: 543\n",
            "episods: 464, Max score: 773, Current Score: 144\n",
            "episods: 465, Max score: 773, Current Score: 223\n",
            "episods: 466, Max score: 773, Current Score: 314\n",
            "episods: 467, Max score: 779, Current Score: 779\n",
            "episods: 468, Max score: 779, Current Score: 305\n",
            "episods: 469, Max score: 779, Current Score: 228\n",
            "episods: 470, Max score: 779, Current Score: 134\n",
            "episods: 471, Max score: 982, Current Score: 982\n",
            "episods: 472, Max score: 982, Current Score: 140\n",
            "episods: 473, Max score: 982, Current Score: 74\n",
            "episods: 474, Max score: 982, Current Score: 106\n",
            "episods: 475, Max score: 982, Current Score: 92\n",
            "episods: 476, Max score: 982, Current Score: 129\n",
            "episods: 477, Max score: 982, Current Score: 309\n",
            "episods: 478, Max score: 982, Current Score: 137\n",
            "episods: 479, Max score: 982, Current Score: 115\n",
            "episods: 480, Max score: 982, Current Score: 247\n",
            "episods: 481, Max score: 982, Current Score: 79\n",
            "episods: 482, Max score: 982, Current Score: 337\n",
            "episods: 483, Max score: 982, Current Score: 98\n",
            "episods: 484, Max score: 982, Current Score: 651\n",
            "episods: 485, Max score: 982, Current Score: 276\n",
            "episods: 486, Max score: 982, Current Score: 196\n",
            "episods: 487, Max score: 982, Current Score: 293\n",
            "episods: 488, Max score: 982, Current Score: 238\n",
            "episods: 489, Max score: 982, Current Score: 414\n",
            "episods: 490, Max score: 982, Current Score: 379\n",
            "episods: 491, Max score: 982, Current Score: 763\n",
            "episods: 492, Max score: 982, Current Score: 910\n",
            "episods: 493, Max score: 982, Current Score: 278\n",
            "episods: 494, Max score: 982, Current Score: 330\n",
            "episods: 495, Max score: 982, Current Score: 315\n",
            "episods: 496, Max score: 982, Current Score: 352\n",
            "episods: 497, Max score: 982, Current Score: 300\n",
            "episods: 498, Max score: 982, Current Score: 327\n",
            "episods: 499, Max score: 982, Current Score: 236\n"
          ],
          "name": "stdout"
        }
      ]
    },
    {
      "cell_type": "code",
      "metadata": {
        "id": "6jfRg0Unm32-",
        "outputId": "4d94a34b-e4d9-407d-e904-20c6da9c440b",
        "colab": {
          "base_uri": "https://localhost:8080/",
          "height": 282
        }
      },
      "source": [
        "plt.plot(scoreWithDropout)"
      ],
      "execution_count": 123,
      "outputs": [
        {
          "output_type": "execute_result",
          "data": {
            "text/plain": [
              "[<matplotlib.lines.Line2D at 0x7fccd9d37860>]"
            ]
          },
          "metadata": {
            "tags": []
          },
          "execution_count": 123
        },
        {
          "output_type": "display_data",
          "data": {
            "image/png": "[encoded data removed]",
            "text/plain": [
              "<Figure size 432x288 with 1 Axes>"
            ]
          },
          "metadata": {
            "tags": [],
            "needs_background": "light"
          }
        }
      ]
    },
    {
      "cell_type": "code",
      "metadata": {
        "id": "Co6B9Wf1AZpb",
        "outputId": "690b780c-5788-4119-9263-48b1c2062031",
        "colab": {
          "base_uri": "https://localhost:8080/",
          "height": 538
        }
      },
      "source": [
        "state = env.reset()\n",
        "done = False\n",
        "display_img = plt.imshow(env.render(\"rgb_array\"))\n",
        "i = 0\n",
        "while not done:\n",
        "  state = torch.tensor(state,dtype=torch.float).to(\"cuda\")\n",
        "  action = agent.model(state)\n",
        "  action = int(torch.argmax(action).item())\n",
        "  state, reward, done, _ = env.step(action)\n",
        "  display_img.set_data(env.render(\"rgb_array\"))\n",
        "  clear_output(wait=True)\n",
        "  display.display(plt.gcf())\n",
        "  i += 1\n",
        "print(i)"
      ],
      "execution_count": 124,
      "outputs": [
        {
          "output_type": "display_data",
          "data": {
            "image/png": "[encoded data removed]",
            "text/plain": [
              "<Figure size 432x288 with 1 Axes>"
            ]
          },
          "metadata": {
            "tags": []
          }
        },
        {
          "output_type": "stream",
          "text": [
            "683\n"
          ],
          "name": "stdout"
        },
        {
          "output_type": "display_data",
          "data": {
            "image/png": "[encoded data removed]",
            "text/plain": [
              "<Figure size 432x288 with 1 Axes>"
            ]
          },
          "metadata": {
            "tags": [],
            "needs_background": "light"
          }
        }
      ]
    },
    {
      "cell_type": "code",
      "metadata": {
        "id": "kfKrmasjzrZP"
      },
      "source": [
        "\n",
        "\n",
        "\n"
      ],
      "execution_count": null,
      "outputs": []
    }
  ]
}