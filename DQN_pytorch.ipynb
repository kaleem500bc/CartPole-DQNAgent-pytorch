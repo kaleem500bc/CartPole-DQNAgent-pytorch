{
  "nbformat": 4,
  "nbformat_minor": 0,
  "metadata": {
    "colab": {
      "name": "DQN pytorch",
      "provenance": [],
      "collapsed_sections": [],
      "include_colab_link": true
    },
    "kernelspec": {
      "display_name": "Python 3",
      "name": "python3"
    },
    "accelerator": "GPU"
  },
  "cells": [
    {
      "cell_type": "markdown",
      "metadata": {
        "id": "view-in-github",
        "colab_type": "text"
      },
      "source": [
        "<a href=\"https://colab.research.google.com/github/kaleem500bc/CartPole-DQNAgent-pytorch/blob/main/DQN_pytorch.ipynb\" target=\"_parent\"><img src=\"https://colab.research.google.com/assets/colab-badge.svg\" alt=\"Open In Colab\"/></a>"
      ]
    },
    {
      "cell_type": "code",
      "metadata": {
        "id": "zSneztlAugFJ",
        "colab": {
          "base_uri": "https://localhost:8080/"
        },
        "outputId": "8e016bd3-131c-45ba-88ac-0c360ec03107"
      },
      "source": [
        "!pip install PyVirtualDisplay"
      ],
      "execution_count": null,
      "outputs": [
        {
          "output_type": "stream",
          "text": [
            "Collecting PyVirtualDisplay\n",
            "  Downloading https://files.pythonhosted.org/packages/ad/05/6568620fed440941b704664b9cfe5f836ad699ac7694745e7787fbdc8063/PyVirtualDisplay-2.0-py2.py3-none-any.whl\n",
            "Collecting EasyProcess\n",
            "  Downloading https://files.pythonhosted.org/packages/48/3c/75573613641c90c6d094059ac28adb748560d99bd27ee6f80cce398f404e/EasyProcess-0.3-py2.py3-none-any.whl\n",
            "Installing collected packages: EasyProcess, PyVirtualDisplay\n",
            "Successfully installed EasyProcess-0.3 PyVirtualDisplay-2.0\n"
          ],
          "name": "stdout"
        }
      ]
    },
    {
      "cell_type": "code",
      "metadata": {
        "id": "iLAiMoMUyiki"
      },
      "source": [
        "import torch\n",
        "from torch import nn\n",
        "import gym\n",
        "import os\n",
        "from matplotlib import pyplot as plt\n",
        "import numpy as np\n",
        "from collections import deque\n",
        "import random\n",
        "import time\n",
        "from IPython import display\n",
        "from pyvirtualdisplay import Display\n",
        "# from IPython import display\n",
        "from IPython.display import clear_output\n",
        "import copy\n",
        "plt.ion()"
      ],
      "execution_count": null,
      "outputs": []
    },
    {
      "cell_type": "code",
      "metadata": {
        "id": "1-3wQ9-SfJS3",
        "colab": {
          "base_uri": "https://localhost:8080/"
        },
        "outputId": "27b8d756-c395-4144-d703-6f34b5f0e2f8"
      },
      "source": [
        "# make virtual screen and redirect render to this screen\n",
        "# From https://raw.githubusercontent.com/yandexdataschool/Practical_RL/master/setup_colab.sh\n",
        "!wget -q https://raw.githubusercontent.com/yandexdataschool/Practical_RL/master/setup_colab.sh -O- | bash\n",
        "!bash ../xvfb start\n",
        "os.environ['DISPLAY'] = ':1'"
      ],
      "execution_count": null,
      "outputs": [
        {
          "output_type": "stream",
          "text": [
            "Selecting previously unselected package xvfb.\n",
            "(Reading database ... 145483 files and directories currently installed.)\n",
            "Preparing to unpack .../xvfb_2%3a1.19.6-1ubuntu4.8_amd64.deb ...\n",
            "Unpacking xvfb (2:1.19.6-1ubuntu4.8) ...\n",
            "Setting up xvfb (2:1.19.6-1ubuntu4.8) ...\n",
            "Processing triggers for man-db (2.8.3-2ubuntu0.1) ...\n",
            "Starting virtual X frame buffer: Xvfb.\n"
          ],
          "name": "stdout"
        }
      ]
    },
    {
      "cell_type": "code",
      "metadata": {
        "id": "7iLj1NL7n64P"
      },
      "source": [
        "class Agent:\n",
        "  def __init__(self,state_size, action_size):\n",
        "    self.state_size = state_size\n",
        "    self.action_size = action_size\n",
        "\n",
        "    # Discount factor\n",
        "    self.gamma = 0.99\n",
        "\n",
        "    # Probability to explore\n",
        "    self.epsilon = 1.0\n",
        "    # Decay probability to explore\n",
        "    self.epsilon_decay = 0.995\n",
        "    self.epsilon_min = 0.01\n",
        "\n",
        "    self.learning_rate = 0.00025\n",
        "    self.device = torch.device(\"cuda\" if torch.cuda.is_available() else \"cpu\")\n",
        "\n",
        "    # Model and target model for stability \n",
        "    self.model = self.create_model()\n",
        "    self.targetModel = self.create_model()\n",
        "\n",
        "    # Initialize weights of the target model\n",
        "    self.targetModel.load_state_dict(self.model.state_dict())\n",
        "    self.optimizer = torch.optim.Adam(self.model.parameters(),lr=self.learning_rate)\n",
        "\n",
        "    # The problem did not converge for L1 loss so MSE loss is used which worked\n",
        "    self.criterion = nn.MSELoss()\n",
        "    \n",
        "\n",
        "  # Model that will learn the Q-function/ Agent that will play the game\n",
        "  def create_model(self):\n",
        "    model = nn.Sequential(\n",
        "        nn.Linear(self.state_size,256),\n",
        "        nn.LeakyReLU(negative_slope=0.5),\n",
        "        nn.Linear(256, 128),\n",
        "        nn.LeakyReLU(negative_slope=0.5),\n",
        "        nn.Linear(128, self.action_size)\n",
        "    )\n",
        "    model.to(self.device)\n",
        "    return model\n",
        "    \n",
        "\n",
        "  \n",
        "  # Get action that the agent should take\n",
        "  def action(self, model, state):\n",
        "\n",
        "    # Decay the epsilon so there is less exploration in the future. \n",
        "    if self.epsilon > self.epsilon_min:\n",
        "        self.epsilon *= self.epsilon_decay\n",
        "\n",
        "    # Allow random exploration\n",
        "    if np.random.rand() <= self.epsilon:\n",
        "      return random.randrange(self.action_size)\n",
        "\n",
        "    # Get action from the agent/ exploitation\n",
        "    act_values = model(state).detach()\n",
        "    return int(torch.argmax(act_values).item())\n",
        "\n"
      ],
      "execution_count": null,
      "outputs": []
    },
    {
      "cell_type": "code",
      "metadata": {
        "id": "0HM99c53wrs2",
        "colab": {
          "base_uri": "https://localhost:8080/",
          "height": 286
        },
        "outputId": "05ccf6e8-024c-47cc-b7a1-dfab0c28654e"
      },
      "source": [
        "# Initialize the environment\n",
        "env = gym.make(\"CartPole-v0\").env\n",
        "obs = env.reset()\n",
        "plt.imshow(env.render(\"rgb_array\"))"
      ],
      "execution_count": null,
      "outputs": [
        {
          "output_type": "execute_result",
          "data": {
            "text/plain": [
              "<matplotlib.image.AxesImage at 0x7fbbbaaa8e10>"
            ]
          },
          "metadata": {
            "tags": []
          },
          "execution_count": 36
        },
        {
          "output_type": "display_data",
          "data": {
            "image/png": "[encoded data removed]",
            "text/plain": [
              "<Figure size 432x288 with 1 Axes>"
            ]
          },
          "metadata": {
            "tags": [],
            "needs_background": "light"
          }
        }
      ]
    },
    {
      "cell_type": "code",
      "metadata": {
        "id": "B1NTH6CcvzJR"
      },
      "source": [
        "# State space of the environment\n",
        "state_size = env.observation_space.shape[0]\n",
        "\n",
        "# Action space of the agent in the environment\n",
        "action_size = env.action_space.n\n",
        "\n",
        "# Initialze the agent which composes of the model (predict value of the state) and target model\n",
        "agent = Agent(state_size, action_size)"
      ],
      "execution_count": null,
      "outputs": []
    },
    {
      "cell_type": "code",
      "metadata": {
        "id": "2swW4ERmSsDo"
      },
      "source": [
        "# Holds the information about the episodes\r\n",
        "class ReplayBuffer():\r\n",
        "  def __init__(self):\r\n",
        "    # Total number of sars (state, action, discounted reward, next state)\r\n",
        "    self.mem_size = 1000\r\n",
        "    self.memory = deque(maxlen=self.mem_size)\r\n",
        "\r\n"
      ],
      "execution_count": null,
      "outputs": []
    },
    {
      "cell_type": "code",
      "metadata": {
        "id": "7MoC54F3CpBr"
      },
      "source": [
        "\r\n",
        "# initialize replay buffer\r\n",
        "replay_buffer = ReplayBuffer()\r\n",
        "\r\n",
        "# Populate the replay buffer with episodes\r\n",
        "def populate_buffer():\r\n",
        "\r\n",
        "  # Reset the environment to initial state/ start the game\r\n",
        "  state = env.reset()\r\n",
        "\r\n",
        "  # Holds all the rewards, states and actions for the entire episode respectively\r\n",
        "  rewards = []\r\n",
        "  states = [state]\r\n",
        "  actions = []\r\n",
        "\r\n",
        "  discounted_factor = 0.99\r\n",
        "\r\n",
        "\r\n",
        "  episodes = 200\r\n",
        "  for i in range(episodes):\r\n",
        "    done = False\r\n",
        "\r\n",
        "    # while the episode is not ended\r\n",
        "    while not done:\r\n",
        "\r\n",
        "      # Action by the model or randomly select one for exploration\r\n",
        "      act = agent.action(agent.model,torch.tensor(state,dtype=torch.float,device=\"cuda\"))\r\n",
        "\r\n",
        "      \r\n",
        "      next_state, reward, done, _ = env.step(act)\r\n",
        "      reward = reward if not done else -1\r\n",
        "\r\n",
        "      rewards.append(reward)\r\n",
        "      states.append(next_state)\r\n",
        "      actions.append(act)\r\n",
        "      state = next_state\r\n",
        "    \r\n",
        "    discounted_rewards = []\r\n",
        "    # Calculate discounted rewards from current state to the next five state\r\n",
        "    for i in range(len(rewards)):\r\n",
        "      t = [(discounted_factor**j)*r for j,r in enumerate(rewards[i:i+5])]\r\n",
        "      discounted_rewards.append(t)\r\n",
        "\r\n",
        "    # discounted factor power should be calculated if the discounted rewards is less than next five state else power should be five\r\n",
        "    # This power is used to calculate Q-value from the last state if the last state is not the final state \r\n",
        "    for i,(state,act,reward) in enumerate(zip(states[:-1], actions, discounted_rewards)):\r\n",
        "      if i+5 >= len(states):\r\n",
        "        n_state = states[len(states)-1]\r\n",
        "        power_discounted_factor = -1\r\n",
        "      else:\r\n",
        "        n_state = states[i+5]\r\n",
        "        power_discounted_factor = 5\r\n",
        "\r\n",
        "      # Convert state to torch tensor for model processing\r\n",
        "      state, n_state = torch.tensor(state, dtype = torch.float, device = \"cuda\"), torch.tensor(n_state, dtype = torch.float, device = \"cuda\")\r\n",
        "\r\n",
        "      # Save in the replay buffer\r\n",
        "      replay_buffer.memory.append((state,act,sum(reward),n_state,power_discounted_factor))\r\n",
        "\r\n",
        "    # Reset for the next episode\r\n",
        "    actions = []\r\n",
        "    rewards = []\r\n",
        "    states = []\r\n",
        "\r\n",
        "    # Start next episode\r\n",
        "    state = env.reset()\r\n",
        "    states = [state]\r\n",
        "\r\n",
        "# Populate the replay buffer\r\n",
        "populate_buffer()"
      ],
      "execution_count": null,
      "outputs": []
    },
    {
      "cell_type": "code",
      "metadata": {
        "id": "AYMXEuJwE0e2"
      },
      "source": [
        "\r\n",
        "# Steps to update the target model with the model weights\r\n",
        "STEPS_UPDATE = 100\r\n",
        "\r\n",
        "# Train the model according to q-learning\r\n",
        "def training(agent, replay_buffer, epochs, batch_size):\r\n",
        "\r\n",
        "  losses = []\r\n",
        "  steps_to_update = 0\r\n",
        "\r\n",
        "  for epoch in range(epochs):\r\n",
        "\r\n",
        "    print(\"Epochs: \",epoch+1)\r\n",
        "    \r\n",
        "    loss_per_epoch = 0\r\n",
        "\r\n",
        "    for batch in range(replay_buffer.mem_size// batch_size):\r\n",
        "      \r\n",
        "      loss = 0\r\n",
        "\r\n",
        "      # Randomly choose the minibatch to avoid correlation between the transitions\r\n",
        "      minibatch = random.sample(replay_buffer.memory, batch_size)\r\n",
        "\r\n",
        "      for state, action, reward, next_state, power in minibatch:\r\n",
        "      \r\n",
        "        if power != -1:\r\n",
        "          # if episode did not end then expected reward is the current reward and the future rewards from the next state\r\n",
        "          expected_reward = reward + (agent.gamma ** power)* torch.amax(\r\n",
        "              agent.targetModel(next_state).detach()\r\n",
        "              )\r\n",
        "        else:\r\n",
        "          # If episode is ended then the current discounted reward \r\n",
        "          expected_reward = torch.tensor(reward, dtype = torch.float, device = \"cuda\")\r\n",
        "\r\n",
        "        # Distribution of predicted Q-value from the current state for each action\r\n",
        "        predicted_reward = agent.model(state)\r\n",
        "\r\n",
        "        # Take the Q-value for the action taken\r\n",
        "        predicted_reward = predicted_reward[action] \r\n",
        "\r\n",
        "        loss = agent.criterion(predicted_reward,expected_reward)\r\n",
        "        # Calculate the gradient and accumulate it\r\n",
        "        loss.backward()\r\n",
        "        loss_per_epoch += loss.item()\r\n",
        "\r\n",
        "      \r\n",
        "      for param in agent.model.parameters():\r\n",
        "        param.grad.data.clamp_(-1, 1)\r\n",
        "\r\n",
        "      # Update the model weights by the accumulated gradient of the batch\r\n",
        "      agent.optimizer.step()\r\n",
        "\r\n",
        "      # Flush the gradient for the next batch SGD\r\n",
        "      agent.optimizer.zero_grad()\r\n",
        "      \r\n",
        "      \r\n",
        "\r\n",
        "      \r\n",
        "      # Update the target model by the weights of the model\r\n",
        "      steps_to_update += 1\r\n",
        "      if (steps_to_update) % STEPS_UPDATE == 0:\r\n",
        "        agent.targetModel.load_state_dict(agent.model.state_dict())\r\n",
        "    \r\n",
        "    # After 10 epochs populate the replay buffer with new training data\r\n",
        "    if (epoch+1) % 10 == 0:\r\n",
        "      populate_buffer()\r\n",
        "      \r\n",
        "      \r\n",
        "\r\n",
        "    losses.append(loss_per_epoch)\r\n",
        "  \r\n",
        "  return losses\r\n",
        "        "
      ],
      "execution_count": null,
      "outputs": []
    },
    {
      "cell_type": "code",
      "metadata": {
        "id": "7FuVDG2yn561"
      },
      "source": [
        "loss = training(agent, replay_buffer, epochs = 50, batch_size = 10)"
      ],
      "execution_count": null,
      "outputs": []
    },
    {
      "cell_type": "code",
      "metadata": {
        "id": "fEq7AXtVCTzY",
        "colab": {
          "base_uri": "https://localhost:8080/",
          "height": 282
        },
        "outputId": "e05f5fa0-e7f5-4065-f625-eccd6ad27684"
      },
      "source": [
        "# After every 10 epochs the model is trained with the new training data\r\n",
        "plt.plot(loss)"
      ],
      "execution_count": null,
      "outputs": [
        {
          "output_type": "execute_result",
          "data": {
            "text/plain": [
              "[<matplotlib.lines.Line2D at 0x7fbbba46f898>]"
            ]
          },
          "metadata": {
            "tags": []
          },
          "execution_count": 57
        },
        {
          "output_type": "display_data",
          "data": {
            "image/png": "[encoded data removed]",
            "text/plain": [
              "<Figure size 432x288 with 1 Axes>"
            ]
          },
          "metadata": {
            "tags": [],
            "needs_background": "light"
          }
        }
      ]
    },
    {
      "cell_type": "code",
      "metadata": {
        "id": "Co6B9Wf1AZpb",
        "colab": {
          "base_uri": "https://localhost:8080/",
          "height": 538
        },
        "outputId": "8e5c4bc1-422b-4a62-f08a-2bf776499dd9"
      },
      "source": [
        "# Test the trained model in the environment\n",
        "avg_score = 0\n",
        "# for i in range(10):\n",
        "state = env.reset()\n",
        "done = False\n",
        "display_img = plt.imshow(env.render(\"rgb_array\"))\n",
        "\n",
        "while not done:\n",
        "  state = torch.tensor(state,dtype=torch.float).to(\"cuda\")\n",
        "  action = agent.model(state)\n",
        "  action = int(torch.argmax(action).item())\n",
        "  state, reward, done, _ = env.step(action)\n",
        "  display_img.set_data(env.render(\"rgb_array\"))\n",
        "  clear_output(wait=True)\n",
        "  display.display(plt.gcf())\n",
        "  avg_score += 1\n",
        "print(avg_score)"
      ],
      "execution_count": null,
      "outputs": [
        {
          "output_type": "display_data",
          "data": {
            "image/png": "[encoded data removed]",
            "text/plain": [
              "<Figure size 432x288 with 1 Axes>"
            ]
          },
          "metadata": {
            "tags": []
          }
        },
        {
          "output_type": "stream",
          "text": [
            "347\n"
          ],
          "name": "stdout"
        },
        {
          "output_type": "display_data",
          "data": {
            "image/png": "[encoded data removed]",
            "text/plain": [
              "<Figure size 432x288 with 1 Axes>"
            ]
          },
          "metadata": {
            "tags": [],
            "needs_background": "light"
          }
        }
      ]
    },
    {
      "cell_type": "code",
      "metadata": {
        "id": "NLZeZ3otWs9F"
      },
      "source": [
        ""
      ],
      "execution_count": null,
      "outputs": []
    }
  ]
}